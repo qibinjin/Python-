{
 "cells": [
  {
   "cell_type": "code",
   "execution_count": 21,
   "metadata": {},
   "outputs": [
    {
     "name": "stdout",
     "output_type": "stream",
     "text": [
      "0.031200170516967773\n",
      "0.9536275863647461\n"
     ]
    }
   ],
   "source": [
    "import time\n",
    "import random\n",
    "my_list = [random.randint(1,1000) for _ in range(100000)]\n",
    "def quicksort(array):\n",
    "    \n",
    "    if len(array) < 1:\n",
    "        return array\n",
    "    else:\n",
    "        tmp = array[0]\n",
    "        array_less = [i for i in array[1:] if i < tmp]\n",
    "        array_more = [i for i in array[1:] if i >= tmp]\n",
    "        return quicksort(array_less) + [tmp] + quicksort(array_more)\n",
    "# print(quicksort(my_list))\n",
    "old = time.time()\n",
    "sorted(my_list)\n",
    "print(time.time() - old)\n",
    "\n",
    "old = time.time()\n",
    "quicksort(my_list)\n",
    "print(time.time() - old)"
   ]
  },
  {
   "cell_type": "code",
   "execution_count": 22,
   "metadata": {},
   "outputs": [
    {
     "name": "stdout",
     "output_type": "stream",
     "text": [
      "Help on built-in function sorted in module builtins:\n",
      "\n",
      "sorted(iterable, /, *, key=None, reverse=False)\n",
      "    Return a new list containing all items from the iterable in ascending order.\n",
      "    \n",
      "    A custom key function can be supplied to customize the sort order, and the\n",
      "    reverse flag can be set to request the result in descending order.\n",
      "\n"
     ]
    }
   ],
   "source": [
    "help(sorted)"
   ]
  },
  {
   "cell_type": "code",
   "execution_count": 32,
   "metadata": {},
   "outputs": [
    {
     "name": "stdout",
     "output_type": "stream",
     "text": [
      "请选择:\n",
      "    0.发送数据\n",
      "    1.接受数据\n",
      "    其他:退出程序1\n",
      "http://www.cmsoft.cn QQ:10865600 ('192.168.164.22', 8080)\n",
      "请选择:\n",
      "    0.发送数据\n",
      "    1.接受数据\n",
      "    其他:退出程序0\n",
      "请输入asd\n",
      "请选择:\n",
      "    0.发送数据\n",
      "    1.接受数据\n",
      "    其他:退出程序1\n",
      "http://www.cmsoft.cn QQ:10865600 ('192.168.164.22', 8080)\n",
      "请选择:\n",
      "    0.发送数据\n",
      "    1.接受数据\n",
      "    其他:退出程序0\n",
      "请输入123\n",
      "请选择:\n",
      "    0.发送数据\n",
      "    1.接受数据\n",
      "    其他:退出程序5'\n"
     ]
    }
   ],
   "source": [
    "from socket import *\n",
    "\n",
    "\n",
    "ADDR = ('192.168.164.22', 8080)\n",
    "\n",
    "def send_data(udp_socket):\n",
    "    send_data = input('请输入')\n",
    "    udp_socket.sendto(send_data.encode('gbk'), ADDR)\n",
    "def recv_data(udp_socket):\n",
    "    data, ip_addr = udp_socket.recvfrom(1024)\n",
    "    print(data.decode('gbk'),ip_addr)\n",
    "def menu():\n",
    "    my_str = \"\"\"请选择:\n",
    "    0.发送数据\n",
    "    1.接受数据\n",
    "    其他:退出程序\"\"\"\n",
    "    return input(my_str)\n",
    "def main():    \n",
    "    udp_socket = socket(AF_INET,SOCK_DGRAM)\n",
    "    udp_socket.bind(('', 5555))\n",
    "    while True:\n",
    "        index = menu()\n",
    "        if index == '0':\n",
    "            send_data(udp_socket)\n",
    "        elif index == '1':\n",
    "            recv_data(udp_socket)\n",
    "        else:\n",
    "            break\n",
    "    udp_socket.close()\n",
    "\n",
    "if __name__ == '__main__':\n",
    "    main()\n",
    "\n"
   ]
  },
  {
   "cell_type": "code",
   "execution_count": 35,
   "metadata": {},
   "outputs": [
    {
     "data": {
      "text/plain": [
       "''"
      ]
     },
     "execution_count": 35,
     "metadata": {},
     "output_type": "execute_result"
    }
   ],
   "source": [
    "['1', '2', '2','1']"
   ]
  },
  {
   "cell_type": "code",
   "execution_count": 45,
   "metadata": {},
   "outputs": [
    {
     "ename": "AttributeError",
     "evalue": "'list' object has no attribute 'join'",
     "output_type": "error",
     "traceback": [
      "\u001b[1;31m---------------------------------------------------------------------------\u001b[0m",
      "\u001b[1;31mAttributeError\u001b[0m                            Traceback (most recent call last)",
      "\u001b[1;32m<ipython-input-45-19c1676c2314>\u001b[0m in \u001b[0;36m<module>\u001b[1;34m()\u001b[0m\n\u001b[1;32m----> 1\u001b[1;33m \u001b[1;34m'as da sd'\u001b[0m\u001b[1;33m.\u001b[0m\u001b[0msplit\u001b[0m\u001b[1;33m(\u001b[0m\u001b[1;34m' '\u001b[0m\u001b[1;33m)\u001b[0m\u001b[1;33m.\u001b[0m\u001b[0mjoin\u001b[0m\u001b[1;33m(\u001b[0m\u001b[1;34m''\u001b[0m\u001b[1;33m)\u001b[0m\u001b[1;33m\u001b[0m\u001b[0m\n\u001b[0m",
      "\u001b[1;31mAttributeError\u001b[0m: 'list' object has no attribute 'join'"
     ]
    }
   ],
   "source": [
    "'as da sd'.split(' ')"
   ]
  },
  {
   "cell_type": "code",
   "execution_count": 15,
   "metadata": {},
   "outputs": [
    {
     "name": "stdout",
     "output_type": "stream",
     "text": [
      "88\n"
     ]
    }
   ],
   "source": [
    "from socket import *\n",
    "tcp_socket = socket(AF_INET, SOCK_STREAM)\n",
    "tcp_socket.connect(('192.168.164.82', 8080))\n",
    "\n",
    "tcp_socket.send('name'.encode('gbk'))\n",
    "data = tcp_socket.recv(1024).decode('gbk')\n",
    "print(data)\n",
    "\n",
    "tcp_socket.close()"
   ]
  },
  {
   "cell_type": "code",
   "execution_count": 7,
   "metadata": {},
   "outputs": [
    {
     "name": "stdout",
     "output_type": "stream",
     "text": [
      "starting at: Sat May 26 16:04:10 2018\n",
      "start loop 0 at:start loop1 at: Sat May 26 16:04:10 2018\n",
      " Sat May 26 16:04:10 2018\n",
      "loop1 done at: Sat May 26 16:04:12 2018\n",
      "loop 0 done at: Sat May 26 16:04:14 2018\n",
      "all Done at: Sat May 26 16:04:16 2018\n"
     ]
    }
   ],
   "source": [
    "import _thread\n",
    "from time import sleep, ctime\n",
    "def loop0():\n",
    "    print('start loop 0 at:',ctime())\n",
    "    sleep(4)\n",
    "    print('loop 0 done at:', ctime())\n",
    "def loop1():\n",
    "    print('start loop1 at:',ctime())\n",
    "    sleep(2)\n",
    "    print('loop1 done at:', ctime())\n",
    "def main():\n",
    "    print('starting at:',ctime())\n",
    "    _thread.start_new_thread(loop0, ())\n",
    "    _thread.start_new_thread(loop1, ())\n",
    "    sleep(6)\n",
    "    print('all Done at:', ctime())\n",
    "if __name__ == '__main__':\n",
    "    main()"
   ]
  },
  {
   "cell_type": "code",
   "execution_count": 64,
   "metadata": {},
   "outputs": [
    {
     "name": "stdout",
     "output_type": "stream",
     "text": [
      "starting at : Sat May 26 15:09:23 2018\n",
      "start loopstart loop 0 at: Sat May 26 15:09:23 2018\n",
      " 1 at: Sat May 26 15:09:23 2018\n",
      "loop 1 done at: Sat May 26 15:09:25 2018\n",
      "loop 0 done at: Sat May 26 15:09:27 2018\n",
      "all Done at: Sat May 26 15:09:27 2018\n"
     ]
    }
   ],
   "source": [
    "import _thread\n",
    "from time import sleep, ctime\n",
    "\n",
    "loops = [4, 2]\n",
    "\n",
    "def loop(nloop, nsec, lock):\n",
    "    print('start loop', nloop, 'at:', ctime())\n",
    "    sleep(nsec)\n",
    "    print('loop', nloop, 'done at:', ctime())\n",
    "    lock.release()\n",
    "    \n",
    "def main():\n",
    "    print('starting at :', ctime())\n",
    "    locks = []\n",
    "    nloops = range(len(loops))\n",
    "    \n",
    "    for i in nloops:\n",
    "        lock = _thread.allocate_lock()\n",
    "        lock.acquire()\n",
    "        locks.append(lock)\n",
    "        \n",
    "    for i in nloops:\n",
    "        _thread.start_new_thread(loop,(i, loops[i], locks[i]))\n",
    "        \n",
    "    for i in nloops:\n",
    "        while locks[i].locked(): pass\n",
    "    print('all Done at:', ctime())\n",
    "    \n",
    "if __name__ == '__main__':\n",
    "    main()"
   ]
  },
  {
   "cell_type": "code",
   "execution_count": 80,
   "metadata": {},
   "outputs": [],
   "source": []
  },
  {
   "cell_type": "code",
   "execution_count": 3,
   "metadata": {},
   "outputs": [],
   "source": []
  },
  {
   "cell_type": "code",
   "execution_count": null,
   "metadata": {},
   "outputs": [],
   "source": []
  }
 ],
 "metadata": {
  "kernelspec": {
   "display_name": "Python 3",
   "language": "python",
   "name": "python3"
  },
  "language_info": {
   "codemirror_mode": {
    "name": "ipython",
    "version": 3
   },
   "file_extension": ".py",
   "mimetype": "text/x-python",
   "name": "python",
   "nbconvert_exporter": "python",
   "pygments_lexer": "ipython3",
   "version": "3.6.2"
  }
 },
 "nbformat": 4,
 "nbformat_minor": 2
}
