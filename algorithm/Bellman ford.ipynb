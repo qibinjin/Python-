{
 "cells": [
  {
   "cell_type": "code",
   "execution_count": 10,
   "metadata": {},
   "outputs": [
    {
     "name": "stdout",
     "output_type": "stream",
     "text": [
      "请输入定点个数5\n",
      "请输入边的个数5\n",
      "读入边2\n",
      "读入边3\n",
      "读入边2\n",
      "读入边1\n",
      "读入边2\n",
      "读入边-3\n",
      "读入边1\n",
      "读入边5\n",
      "读入边5\n",
      "读入边4\n",
      "读入边5\n",
      "读入边2\n",
      "读入边3\n",
      "读入边4\n",
      "读入边3\n",
      "0\n",
      "-3\n",
      "-1\n",
      "2\n",
      "4\n"
     ]
    }
   ],
   "source": [
    "# bellman-ford\n",
    "n = int(input('请输入定点个数')) \n",
    "m = int(input('请输入边的个数'))\n",
    "u, v, w, dis = [0 for _ in range(10)],[0 for _ in range(10)],[0 for _ in range(10)],[0 for _ in range(10)]\n",
    "inf = 9999999\n",
    "for i in range(1, m+1):\n",
    "    u[i] = int(input('读入边'))\n",
    "    v[i] = int(input('读入边'))\n",
    "    w[i] = int(input('读入边'))\n",
    "for i in range(1, n+1):\n",
    "    dis[i] = inf\n",
    "dis[1] = 0\n",
    "# print(u,v,w,dis)\n",
    "for k in range(1, n):\n",
    "    for i in range(1, m + 1):\n",
    "        if( dis[v[i]] > dis[u[i]] + w[i]):\n",
    "            dis[v[i]] = dis[u[i]] + w[i]\n",
    "\n",
    "for i in range(1, n+1):\n",
    "    print(dis[i])\n"
   ]
  },
  {
   "cell_type": "code",
   "execution_count": 13,
   "metadata": {},
   "outputs": [],
   "source": [
    "# floyd warshall\n",
    "for k in range(1, n + 1):\n",
    "    for i in range(1, n + 1):\n",
    "        for j in range(1, n + 1):\n",
    "            pass"
   ]
  },
  {
   "cell_type": "code",
   "execution_count": null,
   "metadata": {},
   "outputs": [],
   "source": []
  }
 ],
 "metadata": {
  "kernelspec": {
   "display_name": "Python 3",
   "language": "python",
   "name": "python3"
  },
  "language_info": {
   "codemirror_mode": {
    "name": "ipython",
    "version": 3
   },
   "file_extension": ".py",
   "mimetype": "text/x-python",
   "name": "python",
   "nbconvert_exporter": "python",
   "pygments_lexer": "ipython3",
   "version": "3.6.2"
  }
 },
 "nbformat": 4,
 "nbformat_minor": 2
}
