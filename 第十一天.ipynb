{
 "cells": [
  {
   "cell_type": "code",
   "execution_count": 1,
   "metadata": {},
   "outputs": [
    {
     "name": "stdout",
     "output_type": "stream",
     "text": [
      "[1, 2, 3, 3, 4, 5, 7, 9, 10]\n"
     ]
    },
    {
     "data": {
      "text/plain": [
       "0.0009999275207519531"
      ]
     },
     "execution_count": 1,
     "metadata": {},
     "output_type": "execute_result"
    }
   ],
   "source": [
    "#桶排序\n",
    "import time\n",
    "old_time =time.time()\n",
    "my_list = [1, 3, 5, 7, 4, 3, 2, 9, 10]\n",
    "tong = []\n",
    "new_list= []\n",
    "for i in range(0,100):\n",
    "    tong.append([])\n",
    "    \n",
    "for j in my_list:\n",
    "    tong[j].append(j)\n",
    "for j in tong:\n",
    "    if j is not None:\n",
    "        new_list.extend(j)\n",
    "print(new_list)\n",
    "time.time() - old_time"
   ]
  },
  {
   "cell_type": "code",
   "execution_count": 5,
   "metadata": {},
   "outputs": [
    {
     "name": "stdout",
     "output_type": "stream",
     "text": [
      "姓名：小明\n",
      "年龄：18\n",
      "学号：01234231123\n",
      "----------------------------------------\n",
      "姓名：小红\n",
      "年龄：19\n",
      "学号：120930481023\n"
     ]
    }
   ],
   "source": [
    "class Student(object):\n",
    "    def __init__(self, name, age, No):\n",
    "        self.name = name\n",
    "        self.age = age\n",
    "        self.No = No\n",
    "    def __str__(self):\n",
    "        return '姓名：%s\\n年龄：%d\\n学号：%s' % (self.name, self.age, self.No)\n",
    "xm = Student('小明', 18, '01234231123')\n",
    "xh = Student('小红', 19, '120930481023')\n",
    "print(xm)\n",
    "print('-' * 40)\n",
    "print(xh)"
   ]
  },
  {
   "cell_type": "code",
   "execution_count": 4,
   "metadata": {},
   "outputs": [
    {
     "name": "stdout",
     "output_type": "stream",
     "text": [
      "对象被销毁\n"
     ]
    }
   ],
   "source": [
    "class Student(object):\n",
    "    def __init__(self, name, age, No):\n",
    "        self.name = name\n",
    "        self.age = age\n",
    "        self.No = No\n",
    "    def __str__(self):\n",
    "        return '姓名：%s\\n年龄：%d\\n学号：%s' %(self.name, self.age, self.No)\n",
    "    def __del__(self):\n",
    "        print('对象被销毁')\n",
    "xm = Student('小明',15,'123132132131')\n",
    "\n"
   ]
  },
  {
   "cell_type": "code",
   "execution_count": 20,
   "metadata": {},
   "outputs": [
    {
     "name": "stdout",
     "output_type": "stream",
     "text": [
      "古法配方\n",
      "制作古法煎饼果子\n",
      "大猫配方\n",
      "111111\n",
      "制作猫式煎饼果子\n",
      "小烟袋\n"
     ]
    }
   ],
   "source": [
    "class Master(object):\n",
    "    def __init__(self):\n",
    "        self.kongfu = '古法配方'\n",
    "    def make_cake(self):\n",
    "        print('制作古法煎饼果子')\n",
    "    def __str__(self):\n",
    "        return '111111'\n",
    "    def Dayandai(self):\n",
    "        print('大烟袋')\n",
    "class School(object):\n",
    "    def __init__(slf):\n",
    "        self.kongfu = '现代配方'\n",
    "    def make_cake(self):\n",
    "        print('制作现代煎饼果子')\n",
    "    def xiaoyandai(self):\n",
    "        print('小烟袋')\n",
    "class Prentice(Master,School):\n",
    "    def __init__(self):\n",
    "        print('大猫配方')\n",
    "    def make_cake(self):\n",
    "        print('制作猫式煎饼果子')\n",
    "lsh = Master()\n",
    "print(lsh.kongfu)\n",
    "lsh.make_cake()\n",
    "dm = Prentice()\n",
    "print(dm)\n",
    "dm.make_cake()\n",
    "dm.xiaoyandai()"
   ]
  },
  {
   "cell_type": "code",
   "execution_count": 37,
   "metadata": {},
   "outputs": [
    {
     "name": "stdout",
     "output_type": "stream",
     "text": [
      "大猫配方\n",
      "制作古法煎饼果子\n",
      "制作现代煎饼果子\n",
      "制作猫式煎饼果子\n",
      "(<class '__main__.Prentice'>, <class '__main__.Master'>, <class '__main__.School'>, <class 'object'>)\n"
     ]
    }
   ],
   "source": [
    "class Master(object):\n",
    "    def __init__(self):\n",
    "        self.kongfu = '古法配方'\n",
    "    def make_cake(self):\n",
    "        print('制作古法煎饼果子')\n",
    "    def __str__(self):\n",
    "        return '111111'\n",
    "    def Dayandai(self):\n",
    "        print('大烟袋')\n",
    "        \n",
    "        \n",
    "class School(object):\n",
    " \n",
    "    def __init__(slf):\n",
    "        self.kongfu = '现代配方'\n",
    "    def make_cake(self):\n",
    "        print('制作现代煎饼果子')\n",
    "    def xiaoyandai(self):\n",
    "        print('小烟袋')\n",
    "        \n",
    "        \n",
    "class Prentice(Master,School):\n",
    "    def __init__(self):\n",
    "        self.kongfu = '大猫配方'\n",
    "        print(self.kongfu)\n",
    "    def make_cake(self):\n",
    "        print('制作猫式煎饼果子')\n",
    "    def make_old_cake(self):\n",
    "#         Master.make_cake(self)\n",
    "        super().make_cake()\n",
    "#         super(Prentice, self).make_cake()\n",
    "    def make_new_cake(self):\n",
    "        School.make_cake(self)\n",
    "        \n",
    "        \n",
    "dm = Prentice()\n",
    "dm.make_old_cake()\n",
    "dm.make_new_cake()\n",
    "dm.make_cake()\n",
    "print(eval(dm.__class__.__name__).__mro__)"
   ]
  },
  {
   "cell_type": "code",
   "execution_count": 50,
   "metadata": {},
   "outputs": [
    {
     "name": "stdout",
     "output_type": "stream",
     "text": [
      "10000\n"
     ]
    }
   ],
   "source": [
    "class Master(object):\n",
    "    def __init__(self):\n",
    "        self.kongfu = '古法配方'\n",
    "        self.__money = 10000\n",
    "    def make_cake(self):\n",
    "        print('制作古法煎饼果子')\n",
    "    def __str__(self):\n",
    "        return '111111'\n",
    "    def Dayandai(self):\n",
    "        print('大烟袋')\n",
    "class Prentice(Master):\n",
    "    def __str__(self):\n",
    "        return str(self._Master__money)\n",
    "xm = Prentice()\n",
    "print(xm)"
   ]
  },
  {
   "cell_type": "code",
   "execution_count": 54,
   "metadata": {},
   "outputs": [
    {
     "name": "stdout",
     "output_type": "stream",
     "text": [
      "10\n",
      "20\n"
     ]
    }
   ],
   "source": [
    "class Person(object):\n",
    "    def __init__(self):\n",
    "        self.__age = 10\n",
    "    def get_age(self):\n",
    "        return self.__age\n",
    "    def set_age(self,age):\n",
    "        self.__age = age\n",
    "xm = Person()\n",
    "print(xm.get_age())\n",
    "xm.set_age(20)\n",
    "print(xm.get_age())"
   ]
  },
  {
   "cell_type": "code",
   "execution_count": 148,
   "metadata": {},
   "outputs": [
    {
     "name": "stdout",
     "output_type": "stream",
     "text": [
      "小明\n",
      "['_People__name', '__class__', '__delattr__', '__dict__', '__dir__', '__doc__', '__eq__', '__format__', '__ge__', '__getattribute__', '__gt__', '__hash__', '__init__', '__init_subclass__', '__le__', '__lt__', '__module__', '__ne__', '__new__', '__reduce__', '__reduce_ex__', '__repr__', '__setattr__', '__sizeof__', '__str__', '__subclasshook__', '__weakref__', 'get_name', 'set_name']\n",
      "na\n"
     ]
    }
   ],
   "source": [
    "class People(object):\n",
    "    def __init__(self, name):\n",
    "        self.__name = name\n",
    "    def get_name(self):\n",
    "        return self.__name\n",
    "    def set_name(self, name):\n",
    "        if len(name) < 10:\n",
    "            self.__name = name\n",
    "        else:\n",
    "            print('输入字符串过长')\n",
    "xm = People('小明')\n",
    "print(xm.get_name())\n",
    "xm.set_name('na')\n",
    "print(xm.get_name())"
   ]
  },
  {
   "cell_type": "code",
   "execution_count": 59,
   "metadata": {},
   "outputs": [],
   "source": [
    "import re"
   ]
  },
  {
   "cell_type": "code",
   "execution_count": 65,
   "metadata": {},
   "outputs": [
    {
     "name": "stdout",
     "output_type": "stream",
     "text": [
      "3.14\n",
      "3014\n"
     ]
    }
   ],
   "source": [
    "patt314 = '3.14'\n",
    "pi_patt = '3\\.14'\n",
    "m = re.match(pi_patt, '3.14') #利用\\转义符 让python认为点就是点不是匹配任意字符\n",
    "if m is not None: m.group()\n",
    "print(m.group())\n",
    "m = re.match(patt314, '3014')#用点号匹配了0 由于点号匹配任意字符\n",
    "if m is not None: m.group()\n",
    "print(m.group())"
   ]
  },
  {
   "cell_type": "code",
   "execution_count": 70,
   "metadata": {},
   "outputs": [
    {
     "name": "stdout",
     "output_type": "stream",
     "text": [
      "c3po\n",
      "c2do\n",
      "None\n",
      "r2d2\n"
     ]
    }
   ],
   "source": [
    "m = re.match('[cr][23][dp][o2]', 'c3po')\n",
    "if m is not None: m.group()\n",
    "print(m.group())\n",
    "m = re.match('[cr][23][dp][o2]', 'c2do')\n",
    "if m is not None: m.group()\n",
    "print(m.group())\n",
    "m = re.match('r2d2|c3po', 'c2do')\n",
    "if m is not None: m.group()\n",
    "print(m)\n",
    "m = re.match('r2d2|c3po', 'r2d2')\n",
    "if m is not None: m.group()\n",
    "print(m.group())"
   ]
  },
  {
   "cell_type": "code",
   "execution_count": 75,
   "metadata": {},
   "outputs": [
    {
     "name": "stdout",
     "output_type": "stream",
     "text": [
      "nobody@xxx.com\n"
     ]
    },
    {
     "data": {
      "text/plain": [
       "'nobody@xxx.ccc.com'"
      ]
     },
     "execution_count": 75,
     "metadata": {},
     "output_type": "execute_result"
    }
   ],
   "source": [
    "patt = '\\w+@(\\w+\\.)?\\w+\\.com'\n",
    "print(re.match(patt, 'nobody@xxx.com').group())\n",
    "re.match(patt, 'nobody@xxx.ccc.com').group()"
   ]
  },
  {
   "cell_type": "code",
   "execution_count": 77,
   "metadata": {},
   "outputs": [
    {
     "data": {
      "text/plain": [
       "'nobody@www.xxx.ccc.zzz.com'"
      ]
     },
     "execution_count": 77,
     "metadata": {},
     "output_type": "execute_result"
    }
   ],
   "source": [
    "patt = '\\w+@(\\w+\\.)*\\w+\\.com'\n",
    "re.match(patt, 'nobody@www.xxx.ccc.zzz.com').group()"
   ]
  },
  {
   "cell_type": "code",
   "execution_count": 87,
   "metadata": {},
   "outputs": [
    {
     "name": "stdout",
     "output_type": "stream",
     "text": [
      "abc-123\n"
     ]
    }
   ],
   "source": [
    "m = re.match('\\w\\w\\w-\\d\\d\\d', 'abc-123')\n",
    "if m is not None: print(m.group())\n",
    "m = re.match('\\w\\w\\w-\\d\\d\\d', 'abc-xyz')\n",
    "if m is not None: print(m.group())"
   ]
  },
  {
   "cell_type": "code",
   "execution_count": 94,
   "metadata": {},
   "outputs": [
    {
     "name": "stdout",
     "output_type": "stream",
     "text": [
      "abc-123\n",
      "abc\n",
      "123\n",
      "('abc', '123')\n"
     ]
    }
   ],
   "source": [
    "m = re.match('(\\w\\w\\w)-(\\d\\d\\d)', 'abc-123')\n",
    "if m is not None: print(m.group())\n",
    "print(m.group(1))\n",
    "print(m.group(2))\n",
    "print(m.groups())"
   ]
  },
  {
   "cell_type": "code",
   "execution_count": 97,
   "metadata": {},
   "outputs": [
    {
     "name": "stdout",
     "output_type": "stream",
     "text": [
      "ab\n"
     ]
    }
   ],
   "source": [
    "m = re.match('ab', 'ab')\n",
    "if m is not None: print(m.group())"
   ]
  },
  {
   "cell_type": "code",
   "execution_count": 105,
   "metadata": {},
   "outputs": [
    {
     "name": "stdout",
     "output_type": "stream",
     "text": [
      "ab\n",
      "ab\n",
      "('ab',)\n",
      "ab\n",
      "a\n",
      "('a', 'b')\n",
      "ab\n",
      "ab\n",
      "b\n",
      "('ab', 'b')\n"
     ]
    }
   ],
   "source": [
    "m = re.match('(ab)', 'ab')\n",
    "print(m.group())\n",
    "print(m.group(1))\n",
    "print(m.groups())\n",
    "m = re.match('(a)(b)', 'ab')\n",
    "print(m.group())\n",
    "print(m.group(1))\n",
    "print(m.groups())\n",
    "\n",
    "m = re.match('(a(b))', 'ab')\n",
    "print(m.group())\n",
    "print(m.group(1))\n",
    "print(m.group(2))\n",
    "print(m.groups())"
   ]
  },
  {
   "cell_type": "code",
   "execution_count": 117,
   "metadata": {},
   "outputs": [
    {
     "name": "stdout",
     "output_type": "stream",
     "text": [
      "The\n",
      "the\n",
      "the\n"
     ]
    }
   ],
   "source": [
    "m = re.search('^The', 'The end.')\n",
    "if m is not None:print(m.group())\n",
    "m = re.search('^The', 'end The')\n",
    "if m is not None:print(m.group())\n",
    "m = re.search(r'\\bthe', 'bite the dog')\n",
    "if m is not None: print(m.group())\n",
    "m = re.search(r'\\bthe', 'bitethe dog')\n",
    "if m is not None: print(m.group())\n",
    "m = re.search(r'\\Bthe','bitethe dog')\n",
    "if m is not None: print(m.group())"
   ]
  },
  {
   "cell_type": "code",
   "execution_count": 137,
   "metadata": {},
   "outputs": [
    {
     "name": "stdout",
     "output_type": "stream",
     "text": [
      "6\n"
     ]
    }
   ],
   "source": [
    "#DFS\n",
    "def dfs(x,y,step):\n",
    "    global min1\n",
    "    if x == x1 and y ==y1:\n",
    "        if min1 > step:\n",
    "            min1 = step\n",
    "        return \n",
    "        \n",
    "    array = [[0,1], [1,0], [0,-1], [-1, 0]]\n",
    "    \n",
    "    for i in range(0,4):\n",
    "        tx = x + array[i][0]\n",
    "        ty = y + array[i][1]\n",
    "        if tx >= n or tx < 0 or ty >= m or ty < 0:\n",
    "            continue\n",
    "        if [tx,ty] not in searched:\n",
    "#             step += 1\n",
    "#             print(searched)\n",
    "            searched.append([tx,ty])\n",
    "            dfs(tx, ty, step + 1)\n",
    "            searched.remove([tx,ty])\n",
    "    return min1\n",
    "searched = [[0,0]]\n",
    "n = 5\n",
    "m = 5\n",
    "x1 = 3\n",
    "y1 = 3\n",
    "min1 = 999\n",
    "print(dfs(0,0,0))\n",
    "        "
   ]
  },
  {
   "cell_type": "code",
   "execution_count": 147,
   "metadata": {},
   "outputs": [
    {
     "name": "stdout",
     "output_type": "stream",
     "text": [
      "deque([[0, 0], [0, 1]])\n",
      "deque([[0, 0], [0, 1], [1, 0]])\n",
      "deque([[0, 1], [1, 0], [0, 2]])\n",
      "deque([[0, 1], [1, 0], [0, 2], [1, 1]])\n",
      "deque([[1, 0], [0, 2], [1, 1], [2, 0]])\n",
      "deque([[0, 2], [1, 1], [2, 0], [0, 3]])\n",
      "deque([[0, 2], [1, 1], [2, 0], [0, 3], [1, 2]])\n",
      "deque([[1, 1], [2, 0], [0, 3], [1, 2], [2, 1]])\n",
      "deque([[2, 0], [0, 3], [1, 2], [2, 1], [3, 0]])\n",
      "deque([[0, 3], [1, 2], [2, 1], [3, 0], [0, 4]])\n",
      "deque([[0, 3], [1, 2], [2, 1], [3, 0], [0, 4], [1, 3]])\n",
      "deque([[1, 2], [2, 1], [3, 0], [0, 4], [1, 3], [2, 2]])\n",
      "deque([[2, 1], [3, 0], [0, 4], [1, 3], [2, 2], [3, 1]])\n",
      "deque([[3, 0], [0, 4], [1, 3], [2, 2], [3, 1], [4, 0]])\n",
      "deque([[0, 4], [1, 3], [2, 2], [3, 1], [4, 0], [1, 4]])\n",
      "deque([[1, 3], [2, 2], [3, 1], [4, 0], [1, 4], [2, 3]])\n",
      "deque([[2, 2], [3, 1], [4, 0], [1, 4], [2, 3], [3, 2]])\n",
      "deque([[3, 1], [4, 0], [1, 4], [2, 3], [3, 2], [4, 1]])\n",
      "deque([[1, 4], [2, 3], [3, 2], [4, 1], [2, 4]])\n",
      "deque([[2, 3], [3, 2], [4, 1], [2, 4], [3, 3]])\n",
      "deque([[3, 2], [4, 1], [2, 4], [3, 3], [4, 2]])\n",
      "deque([[2, 4], [3, 3], [4, 2], [3, 4]])\n",
      "deque([[3, 3], [4, 2], [3, 4], [4, 3]])\n",
      "找到了\n",
      "20\n"
     ]
    }
   ],
   "source": [
    "#BFS\n",
    "from collections import deque\n",
    "search_queue = deque()\n",
    "searched = [[0,0]]\n",
    "search_queue.append([0,0])\n",
    "x=0\n",
    "y=0\n",
    "x1=3\n",
    "y1=3\n",
    "n=5\n",
    "m=5\n",
    "step = 0\n",
    "\n",
    "while search_queue:\n",
    "    array = [[0,1], [1,0], [0,-1], [-1, 0]]\n",
    "    for i in range(0,4):\n",
    "        tx = search_queue[0][0] + array[i][0]\n",
    "        ty = search_queue[0][1] + array[i][1]\n",
    "        if tx >= n or tx < 0 or ty >= m or ty < 0:\n",
    "            continue\n",
    "        if [tx,ty] not in searched:\n",
    "            searched.append([tx,ty])\n",
    "#             print(searched)\n",
    "            search_queue.append([tx,ty])\n",
    "#             print(search_queue)\n",
    "    if search_queue[0] == [x1, y1]:\n",
    "        print('找到了')\n",
    "        break\n",
    "    else:\n",
    "        search_queue.popleft()\n",
    "#             pass\n",
    "    step += 1\n",
    "\n",
    "print(step)"
   ]
  },
  {
   "cell_type": "code",
   "execution_count": 189,
   "metadata": {},
   "outputs": [
    {
     "name": "stdout",
     "output_type": "stream",
     "text": [
      "[[1, 1], [1, 2], [2, 2], [3, 2], [3, 3], [3, 4], [4, 4], [5, 4]]\n",
      "1\n"
     ]
    }
   ],
   "source": [
    "#DFS 水管问题\n",
    "def dfs(x,y,front):\n",
    "    global flag\n",
    "    if (x == n and y == m + 1):\n",
    "        flag = 1 \n",
    "        print(searched)\n",
    "        return\n",
    "    if x < 1 or x > n or y < 1 or y > m:\n",
    "        return\n",
    "    if [x,y] in searched:\n",
    "        return\n",
    "    searched.append([x,y])\n",
    "    walked.append([x,y])\n",
    "#     print(searched)\n",
    "    if my_map[x-1][y-1] == 5 or my_map[x-1][y-1] == 6:\n",
    "        if front == 1:\n",
    "            dfs(x, y + 1, 1)\n",
    "        if front == 2:\n",
    "            dfs(x + 1, y, 2)\n",
    "        if front == 3:\n",
    "            dfs(x, y - 1, 3)\n",
    "        if front == 4:\n",
    "            dfs(x - 1, y, 4)\n",
    "    \n",
    "    if my_map[x-1][y-1] >= 1 and my_map[x-1][y-1] <= 4:\n",
    "        if front == 1:\n",
    "            dfs(x + 1, y, 2)\n",
    "            dfs(x - 1, y, 4)\n",
    "        if front == 2:\n",
    "            dfs(x, y + 1, 1)\n",
    "            dfs(x, y - 1, 3)\n",
    "        if front == 3:\n",
    "            dfs(x - 1, y, 4)\n",
    "            dfs(x + 1, y, 2)\n",
    "        if front == 4:\n",
    "            dfs(x, y + 1, 1)\n",
    "            dfs(x, y - 1, 3)\n",
    "    searched.remove([x, y])\n",
    "\n",
    "    return\n",
    "\n",
    "searched = []\n",
    "walked = []\n",
    "n = 5\n",
    "m = 4\n",
    "flag = 0\n",
    "\n",
    "with open('hm.txt', 'r') as f:\n",
    "    lines = f.readlines()\n",
    "    \n",
    "    new_list = [int(i) for x in lines for i in x.split(' ')]\n",
    "    my_map = [new_list[x: x + 4] for x in range(0,len(new_list),4)]\n",
    "# print(my_list)\n",
    "dfs(1,1,1)\n",
    "print(flag)\n",
    "\n",
    "        "
   ]
  },
  {
   "cell_type": "code",
   "execution_count": null,
   "metadata": {},
   "outputs": [],
   "source": []
  }
 ],
 "metadata": {
  "kernelspec": {
   "display_name": "Python 3",
   "language": "python",
   "name": "python3"
  },
  "language_info": {
   "codemirror_mode": {
    "name": "ipython",
    "version": 3
   },
   "file_extension": ".py",
   "mimetype": "text/x-python",
   "name": "python",
   "nbconvert_exporter": "python",
   "pygments_lexer": "ipython3",
   "version": "3.6.2"
  }
 },
 "nbformat": 4,
 "nbformat_minor": 2
}
