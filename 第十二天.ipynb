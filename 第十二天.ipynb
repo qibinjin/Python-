{
 "cells": [
  {
   "cell_type": "code",
   "execution_count": 3,
   "metadata": {},
   "outputs": [
    {
     "name": "stdout",
     "output_type": "stream",
     "text": [
      "79514328\n",
      "79514328\n"
     ]
    }
   ],
   "source": [
    "class Person(object):\n",
    "    country = '中国'\n",
    "    def __init__(self):\n",
    "        self.name = '小明'\n",
    "print(id(Person.country))\n",
    "xm = Person()\n",
    "print(id(xm.country))"
   ]
  },
  {
   "cell_type": "code",
   "execution_count": 44,
   "metadata": {},
   "outputs": [
    {
     "name": "stdout",
     "output_type": "stream",
     "text": [
      "82689776\n",
      "82689776\n",
      "__init__\n",
      "19\n",
      "haello\n",
      "82689776\n"
     ]
    },
    {
     "ename": "AttributeError",
     "evalue": "'Person' object has no attribute 'name'",
     "output_type": "error",
     "traceback": [
      "\u001b[1;31m---------------------------------------------------------------------------\u001b[0m",
      "\u001b[1;31mAttributeError\u001b[0m                            Traceback (most recent call last)",
      "\u001b[1;32m<ipython-input-44-0cb221b1f9d3>\u001b[0m in \u001b[0;36m<module>\u001b[1;34m()\u001b[0m\n\u001b[0;32m     19\u001b[0m \u001b[0mxm\u001b[0m\u001b[1;33m.\u001b[0m\u001b[0mtext\u001b[0m\u001b[1;33m(\u001b[0m\u001b[1;33m)\u001b[0m\u001b[1;33m\u001b[0m\u001b[0m\n\u001b[0;32m     20\u001b[0m \u001b[0mprint\u001b[0m\u001b[1;33m(\u001b[0m\u001b[0mid\u001b[0m\u001b[1;33m(\u001b[0m\u001b[0mxm\u001b[0m\u001b[1;33m)\u001b[0m\u001b[1;33m)\u001b[0m\u001b[1;33m\u001b[0m\u001b[0m\n\u001b[1;32m---> 21\u001b[1;33m \u001b[0mxm\u001b[0m\u001b[1;33m.\u001b[0m\u001b[0mname\u001b[0m\u001b[1;33m\u001b[0m\u001b[0m\n\u001b[0m",
      "\u001b[1;31mAttributeError\u001b[0m: 'Person' object has no attribute 'name'"
     ]
    }
   ],
   "source": [
    "class Person(object):\n",
    "    __age = 18\n",
    "    def __new__(cls, *args, **kwargs):\n",
    "        cls.__age = 19\n",
    "        print(id(object.__new__(cls)))\n",
    "        object.__new__(cls).name = 10\n",
    "        print(id(object.__new__(cls)))\n",
    "        return object.__new__(cls)\n",
    "    def __init__(self):\n",
    "        print('__init__')\n",
    "    @classmethod\n",
    "    def get_age(cls):\n",
    "        return cls.__age\n",
    "    @staticmethod\n",
    "    def text():\n",
    "        print('haello')\n",
    "xm = Person()\n",
    "print(xm.get_age())\n",
    "xm.text()\n",
    "print(id(xm))\n",
    "xm.name"
   ]
  },
  {
   "cell_type": "code",
   "execution_count": 48,
   "metadata": {},
   "outputs": [
    {
     "name": "stdout",
     "output_type": "stream",
     "text": [
      "84906392\n",
      "84906392\n"
     ]
    }
   ],
   "source": [
    "class Person(object):\n",
    "    __instance = None\n",
    "    def __new__(cls, *args, **kwargs):\n",
    "        if not cls.__instance:\n",
    "            cls.__instance = object.__new__(cls)\n",
    "        return cls.__instance\n",
    "xm = Person()\n",
    "sm = Person()\n",
    "print(id(xm))\n",
    "print(id(sm))"
   ]
  },
  {
   "cell_type": "code",
   "execution_count": 65,
   "metadata": {},
   "outputs": [
    {
     "name": "stdout",
     "output_type": "stream",
     "text": [
      "name 'name' is not defined\n",
      "name 'name' is not defined\n"
     ]
    }
   ],
   "source": [
    "try:\n",
    "    print(name)\n",
    "    open('asdasd.sd','r')\n",
    "except (FileNotFoundError, NameError) as e:\n",
    "    print(e)\n",
    "\n",
    "try:\n",
    "    print(name)\n",
    "except NameError as e:\n",
    "    print(e)"
   ]
  },
  {
   "cell_type": "code",
   "execution_count": 66,
   "metadata": {},
   "outputs": [
    {
     "name": "stdout",
     "output_type": "stream",
     "text": [
      "name 'name' is not defined\n"
     ]
    }
   ],
   "source": [
    "try:\n",
    "    print(name)\n",
    "except Exception as e:\n",
    "    print(e)"
   ]
  },
  {
   "cell_type": "code",
   "execution_count": 71,
   "metadata": {},
   "outputs": [
    {
     "name": "stdout",
     "output_type": "stream",
     "text": [
      "finally\n",
      "发信异常\n"
     ]
    }
   ],
   "source": [
    "try:\n",
    "    try:\n",
    "        print(num)\n",
    "    finally:\n",
    "        print('finally')\n",
    "except:\n",
    "    print('发信异常')"
   ]
  },
  {
   "cell_type": "code",
   "execution_count": 72,
   "metadata": {},
   "outputs": [
    {
     "name": "stdout",
     "output_type": "stream",
     "text": [
      "异常\n"
     ]
    }
   ],
   "source": [
    "def func1():\n",
    "    print(n)\n",
    "def func2():\n",
    "    func1()\n",
    "try:\n",
    "    func2()\n",
    "except:\n",
    "    print('异常')"
   ]
  },
  {
   "cell_type": "code",
   "execution_count": 75,
   "metadata": {},
   "outputs": [
    {
     "ename": "AgeError",
     "evalue": "您输入的年龄超出常人范围222",
     "output_type": "error",
     "traceback": [
      "\u001b[1;31m---------------------------------------------------------------------------\u001b[0m",
      "\u001b[1;31mAgeError\u001b[0m                                  Traceback (most recent call last)",
      "\u001b[1;32m<ipython-input-75-79fbb2f16b8c>\u001b[0m in \u001b[0;36m<module>\u001b[1;34m()\u001b[0m\n\u001b[0;32m     12\u001b[0m             \u001b[1;32mraise\u001b[0m \u001b[0mAgeError\u001b[0m\u001b[1;33m(\u001b[0m\u001b[0mage\u001b[0m\u001b[1;33m)\u001b[0m\u001b[1;33m\u001b[0m\u001b[0m\n\u001b[0;32m     13\u001b[0m \u001b[1;33m\u001b[0m\u001b[0m\n\u001b[1;32m---> 14\u001b[1;33m \u001b[0mxm\u001b[0m \u001b[1;33m=\u001b[0m \u001b[0mPerson\u001b[0m\u001b[1;33m(\u001b[0m\u001b[1;34m'xi'\u001b[0m\u001b[1;33m,\u001b[0m \u001b[1;36m222\u001b[0m\u001b[1;33m)\u001b[0m\u001b[1;33m\u001b[0m\u001b[0m\n\u001b[0m\u001b[0;32m     15\u001b[0m \u001b[0mprint\u001b[0m\u001b[1;33m(\u001b[0m\u001b[0mxm\u001b[0m\u001b[1;33m)\u001b[0m\u001b[1;33m\u001b[0m\u001b[0m\n",
      "\u001b[1;32m<ipython-input-75-79fbb2f16b8c>\u001b[0m in \u001b[0;36m__init__\u001b[1;34m(self, name, age)\u001b[0m\n\u001b[0;32m     10\u001b[0m             \u001b[0mself\u001b[0m\u001b[1;33m.\u001b[0m\u001b[0mage\u001b[0m \u001b[1;33m=\u001b[0m \u001b[0mage\u001b[0m\u001b[1;33m\u001b[0m\u001b[0m\n\u001b[0;32m     11\u001b[0m         \u001b[1;32melse\u001b[0m\u001b[1;33m:\u001b[0m\u001b[1;33m\u001b[0m\u001b[0m\n\u001b[1;32m---> 12\u001b[1;33m             \u001b[1;32mraise\u001b[0m \u001b[0mAgeError\u001b[0m\u001b[1;33m(\u001b[0m\u001b[0mage\u001b[0m\u001b[1;33m)\u001b[0m\u001b[1;33m\u001b[0m\u001b[0m\n\u001b[0m\u001b[0;32m     13\u001b[0m \u001b[1;33m\u001b[0m\u001b[0m\n\u001b[0;32m     14\u001b[0m \u001b[0mxm\u001b[0m \u001b[1;33m=\u001b[0m \u001b[0mPerson\u001b[0m\u001b[1;33m(\u001b[0m\u001b[1;34m'xi'\u001b[0m\u001b[1;33m,\u001b[0m \u001b[1;36m222\u001b[0m\u001b[1;33m)\u001b[0m\u001b[1;33m\u001b[0m\u001b[0m\n",
      "\u001b[1;31mAgeError\u001b[0m: 您输入的年龄超出常人范围222"
     ]
    }
   ],
   "source": [
    "class AgeError(Exception):\n",
    "    def __init__(self, age):\n",
    "        self.age = age\n",
    "    def __str__(self):\n",
    "        return '您输入的年龄超出常人范围%d' % self.age \n",
    "class Person(object):\n",
    "    def __init__(self, name, age):\n",
    "        if   200 > age > 0:\n",
    "            self.name = name\n",
    "            self.age = age\n",
    "        else:\n",
    "            raise AgeError(age)\n",
    "            \n",
    "xm = Person('xi', 222)\n",
    "print(xm)"
   ]
  },
  {
   "cell_type": "code",
   "execution_count": null,
   "metadata": {},
   "outputs": [
    {
     "name": "stdout",
     "output_type": "stream",
     "text": [
      "waiting for connection\n",
      "...connected from: ('127.0.0.1', 62100)\n",
      "waiting for connection\n",
      "...connected from: ('127.0.0.1', 62104)\n",
      "waiting for connection\n"
     ]
    }
   ],
   "source": [
    "from socket import *\n",
    "from time import ctime\n",
    "\n",
    "HOST = ''\n",
    "PORT = 21567\n",
    "BUFSIZ = 1024\n",
    "ADDR = (HOST, PORT)\n",
    "\n",
    "tcpSerSock = socket(AF_INET, SOCK_STREAM)\n",
    "tcpSerSock.bind(ADDR)\n",
    "tcpSerSock.listen(5)\n",
    "\n",
    "while True:\n",
    "    print('waiting for connection')\n",
    "    tcpCliSock, addr = tcpSerSock.accept()\n",
    "    print('...connected from:', addr)\n",
    "    \n",
    "    while True:\n",
    "        data = tcpCliSock.recv(BUFSIZ)\n",
    "        if not data:\n",
    "            break\n",
    "        tcpCliSock.send(('[%s] %s' % ((ctime(), 'utf-8'), data)).encode('utf-8'))\n",
    "    tcpCliSock.close()\n",
    "tcpSerSock.close()"
   ]
  },
  {
   "cell_type": "code",
   "execution_count": null,
   "metadata": {},
   "outputs": [],
   "source": [
    "from socket import *\n",
    "\n",
    "HOST = '127.0.0.1' # or 'localhost'\n",
    "PORT = 21567\n",
    "BUFSIZ = 1024\n",
    "ADDR = (HOST, PORT)\n",
    "\n",
    "tcpCliSock = socket(AF_INET, SOCK_STREAM)\n",
    "tcpCliSock.connect(ADDR)\n",
    "\n",
    "while True:\n",
    "    data = input('> ')\n",
    "    if not data:\n",
    "        break\n",
    "    tcpCliSock.send(data.encode('utf-8'))\n",
    "    data = tcpCliSock.recv(BUFSIZ)\n",
    "    if not data:\n",
    "        break\n",
    "    print(data.decode('utf-8'))\n",
    "tcpCliSock.close()"
   ]
  },
  {
   "cell_type": "code",
   "execution_count": 6,
   "metadata": {},
   "outputs": [
    {
     "name": "stdout",
     "output_type": "stream",
     "text": [
      "请输入性别m\n",
      "请输入身高1.9\n",
      "请输入性别f\n",
      "请输入性别m\n",
      "请输入身高1.5\n",
      "请输入性别m\n",
      "请输入身高1.8\n",
      "请输入性别f\n",
      "请输入性别f\n",
      "请输入性别f\n",
      "请输入性别f\n",
      "请输入性别f\n",
      "请输入性别f\n",
      "2\n"
     ]
    }
   ],
   "source": [
    "\n",
    "sum = 0\n",
    "try:\n",
    "    for i in range(0,10):\n",
    "        if input('请输入性别') == 'm':\n",
    "            if float(input('请输入身高')) >= 1.80:\n",
    "                sum += 1\n",
    "except ValueError:\n",
    "    print('性别请输入m or f,身高输入以米为单位:请重新输入')\n",
    "print(sum)\n"
   ]
  },
  {
   "cell_type": "code",
   "execution_count": 10,
   "metadata": {},
   "outputs": [
    {
     "name": "stdout",
     "output_type": "stream",
     "text": [
      "请输入用户名asd\n",
      "请输入密码asd\n",
      "登录失败\n",
      "请输入用户名alex\n",
      "请输入密码123\n",
      "登录成功\n"
     ]
    }
   ],
   "source": [
    "for i in range(0,3):\n",
    "    user_name = input('请输入用户名')\n",
    "    pass_wd = input('请输入密码')\n",
    "    if (user_name == 'seven' or user_name == 'alex') and pass_wd == '123':\n",
    "        print('登录成功')\n",
    "        break\n",
    "    else:\n",
    "        print('登录失败')\n",
    "else:\n",
    "    print('登录失败超过三次,请重启程序')"
   ]
  },
  {
   "cell_type": "code",
   "execution_count": 20,
   "metadata": {},
   "outputs": [],
   "source": [
    "class Custem_Error(Exception):\n",
    "    def __init__(self, words):\n",
    "        self.words = words\n",
    "    def __str__(self):\n",
    "        if len(self.words) > 5:\n",
    "            return '字符串长度超过5 %s' % self.words\n",
    "        else:\n",
    "            return '字符串长度未超过5 %s' % self.words\n",
    "    def process(self):\n",
    "         if len(self.words) > 5:\n",
    "            return '字符串长度超过5 %s' % self.words\n",
    "         else:\n",
    "            return '字符串长度未超过5 %s' % self.words\n",
    "try:\n",
    "    raise Custem_Error('HelloWorld')\n",
    "except (Custem_Error, FileNotFoundError) as e:\n",
    "    print(e.process())"
   ]
  },
  {
   "cell_type": "code",
   "execution_count": 31,
   "metadata": {},
   "outputs": [
    {
     "name": "stdout",
     "output_type": "stream",
     "text": [
      "请输入总资产e\n",
      "请输入整数 资产\n",
      "请输入总资产2000\n",
      "序号1 品名:电脑 价格:1999\n",
      "序号2 品名:鼠标 价格:10\n",
      "序号3 品名:游艇 价格:20\n",
      "序号4 品名:美女 价格:998\n",
      "请选择商品1\n",
      "请选择商品2\n",
      "余额不足 1\n"
     ]
    }
   ],
   "source": [
    "goods = [{'name':'电脑', 'price':1999}, {'name':'鼠标', 'price':10}\n",
    "         ,{'name':'游艇', 'price':20}, {'name':'美女', 'price':998}]\n",
    "\n",
    "while True:\n",
    "    try:\n",
    "        money = int(input('请输入总资产'))\n",
    "        break\n",
    "    except ValueError:\n",
    "        print('请输入整数 资产')\n",
    "        continue\n",
    "for i,item in enumerate(goods):\n",
    "    print('序号%d 品名:%s 价格:%d' % (i+1, item['name'], item['price']))\n",
    "while True:\n",
    "    try:\n",
    "        m = int(input('请选择商品')) \n",
    "    \n",
    "        \n",
    "        if money >= goods[m-1]['price']:\n",
    "            money -= goods[m-1]['price']\n",
    "        else:\n",
    "            print('余额不足 %d' % money)\n",
    "            break\n",
    "    except (ValueError, IndexError):\n",
    "        print('请输入1-4 整数')\n",
    "        continue\n",
    "    "
   ]
  },
  {
   "cell_type": "code",
   "execution_count": 1,
   "metadata": {},
   "outputs": [
    {
     "name": "stdout",
     "output_type": "stream",
     "text": [
      "waiting for connection...\n",
      "...connected from: ('127.0.0.1', 54515)\n",
      "...connected from: ('127.0.0.1', 54518)\n",
      "...connected from: ('127.0.0.1', 54519)\n"
     ]
    },
    {
     "name": "stderr",
     "output_type": "stream",
     "text": [
      "----------------------------------------\n",
      "Exception happened during processing of request from ('127.0.0.1', 54519)\n",
      "Traceback (most recent call last):\n",
      "  File \"c:\\python36\\lib\\socketserver.py\", line 317, in _handle_request_noblock\n",
      "    self.process_request(request, client_address)\n",
      "  File \"c:\\python36\\lib\\socketserver.py\", line 348, in process_request\n",
      "    self.finish_request(request, client_address)\n",
      "  File \"c:\\python36\\lib\\socketserver.py\", line 361, in finish_request\n",
      "    self.RequestHandlerClass(request, client_address, self)\n",
      "  File \"c:\\python36\\lib\\socketserver.py\", line 696, in __init__\n",
      "    self.handle()\n",
      "  File \"<ipython-input-1-74013f8a2f36>\", line 10, in handle\n",
      "    self.wfile.write(('[%s] %s' % (ctime(),self.rfile.readline().decode('utf-8'))).encode('utf-8'))\n",
      "  File \"c:\\python36\\lib\\socket.py\", line 586, in readinto\n",
      "    return self._sock.recv_into(b)\n",
      "ConnectionResetError: [WinError 10054] 远程主机强迫关闭了一个现有的连接。\n",
      "----------------------------------------\n"
     ]
    },
    {
     "ename": "KeyboardInterrupt",
     "evalue": "",
     "output_type": "error",
     "traceback": [
      "\u001b[1;31m---------------------------------------------------------------------------\u001b[0m",
      "\u001b[1;31mKeyboardInterrupt\u001b[0m                         Traceback (most recent call last)",
      "\u001b[1;32m<ipython-input-1-74013f8a2f36>\u001b[0m in \u001b[0;36m<module>\u001b[1;34m()\u001b[0m\n\u001b[0;32m     11\u001b[0m \u001b[0mtcpServ\u001b[0m \u001b[1;33m=\u001b[0m \u001b[0mTCP\u001b[0m\u001b[1;33m(\u001b[0m\u001b[0mADDR\u001b[0m\u001b[1;33m,\u001b[0m \u001b[0mMyRequestHandler\u001b[0m\u001b[1;33m)\u001b[0m\u001b[1;33m\u001b[0m\u001b[0m\n\u001b[0;32m     12\u001b[0m \u001b[0mprint\u001b[0m\u001b[1;33m(\u001b[0m\u001b[1;34m'waiting for connection...'\u001b[0m\u001b[1;33m)\u001b[0m\u001b[1;33m\u001b[0m\u001b[0m\n\u001b[1;32m---> 13\u001b[1;33m \u001b[0mtcpServ\u001b[0m\u001b[1;33m.\u001b[0m\u001b[0mserve_forever\u001b[0m\u001b[1;33m(\u001b[0m\u001b[1;33m)\u001b[0m\u001b[1;33m\u001b[0m\u001b[0m\n\u001b[0m",
      "\u001b[1;32mc:\\python36\\lib\\socketserver.py\u001b[0m in \u001b[0;36mserve_forever\u001b[1;34m(self, poll_interval)\u001b[0m\n\u001b[0;32m    234\u001b[0m \u001b[1;33m\u001b[0m\u001b[0m\n\u001b[0;32m    235\u001b[0m                 \u001b[1;32mwhile\u001b[0m \u001b[1;32mnot\u001b[0m \u001b[0mself\u001b[0m\u001b[1;33m.\u001b[0m\u001b[0m__shutdown_request\u001b[0m\u001b[1;33m:\u001b[0m\u001b[1;33m\u001b[0m\u001b[0m\n\u001b[1;32m--> 236\u001b[1;33m                     \u001b[0mready\u001b[0m \u001b[1;33m=\u001b[0m \u001b[0mselector\u001b[0m\u001b[1;33m.\u001b[0m\u001b[0mselect\u001b[0m\u001b[1;33m(\u001b[0m\u001b[0mpoll_interval\u001b[0m\u001b[1;33m)\u001b[0m\u001b[1;33m\u001b[0m\u001b[0m\n\u001b[0m\u001b[0;32m    237\u001b[0m                     \u001b[1;32mif\u001b[0m \u001b[0mready\u001b[0m\u001b[1;33m:\u001b[0m\u001b[1;33m\u001b[0m\u001b[0m\n\u001b[0;32m    238\u001b[0m                         \u001b[0mself\u001b[0m\u001b[1;33m.\u001b[0m\u001b[0m_handle_request_noblock\u001b[0m\u001b[1;33m(\u001b[0m\u001b[1;33m)\u001b[0m\u001b[1;33m\u001b[0m\u001b[0m\n",
      "\u001b[1;32mc:\\python36\\lib\\selectors.py\u001b[0m in \u001b[0;36mselect\u001b[1;34m(self, timeout)\u001b[0m\n\u001b[0;32m    321\u001b[0m         \u001b[0mready\u001b[0m \u001b[1;33m=\u001b[0m \u001b[1;33m[\u001b[0m\u001b[1;33m]\u001b[0m\u001b[1;33m\u001b[0m\u001b[0m\n\u001b[0;32m    322\u001b[0m         \u001b[1;32mtry\u001b[0m\u001b[1;33m:\u001b[0m\u001b[1;33m\u001b[0m\u001b[0m\n\u001b[1;32m--> 323\u001b[1;33m             \u001b[0mr\u001b[0m\u001b[1;33m,\u001b[0m \u001b[0mw\u001b[0m\u001b[1;33m,\u001b[0m \u001b[0m_\u001b[0m \u001b[1;33m=\u001b[0m \u001b[0mself\u001b[0m\u001b[1;33m.\u001b[0m\u001b[0m_select\u001b[0m\u001b[1;33m(\u001b[0m\u001b[0mself\u001b[0m\u001b[1;33m.\u001b[0m\u001b[0m_readers\u001b[0m\u001b[1;33m,\u001b[0m \u001b[0mself\u001b[0m\u001b[1;33m.\u001b[0m\u001b[0m_writers\u001b[0m\u001b[1;33m,\u001b[0m \u001b[1;33m[\u001b[0m\u001b[1;33m]\u001b[0m\u001b[1;33m,\u001b[0m \u001b[0mtimeout\u001b[0m\u001b[1;33m)\u001b[0m\u001b[1;33m\u001b[0m\u001b[0m\n\u001b[0m\u001b[0;32m    324\u001b[0m         \u001b[1;32mexcept\u001b[0m \u001b[0mInterruptedError\u001b[0m\u001b[1;33m:\u001b[0m\u001b[1;33m\u001b[0m\u001b[0m\n\u001b[0;32m    325\u001b[0m             \u001b[1;32mreturn\u001b[0m \u001b[0mready\u001b[0m\u001b[1;33m\u001b[0m\u001b[0m\n",
      "\u001b[1;32mc:\\python36\\lib\\selectors.py\u001b[0m in \u001b[0;36m_select\u001b[1;34m(self, r, w, _, timeout)\u001b[0m\n\u001b[0;32m    312\u001b[0m     \u001b[1;32mif\u001b[0m \u001b[0msys\u001b[0m\u001b[1;33m.\u001b[0m\u001b[0mplatform\u001b[0m \u001b[1;33m==\u001b[0m \u001b[1;34m'win32'\u001b[0m\u001b[1;33m:\u001b[0m\u001b[1;33m\u001b[0m\u001b[0m\n\u001b[0;32m    313\u001b[0m         \u001b[1;32mdef\u001b[0m \u001b[0m_select\u001b[0m\u001b[1;33m(\u001b[0m\u001b[0mself\u001b[0m\u001b[1;33m,\u001b[0m \u001b[0mr\u001b[0m\u001b[1;33m,\u001b[0m \u001b[0mw\u001b[0m\u001b[1;33m,\u001b[0m \u001b[0m_\u001b[0m\u001b[1;33m,\u001b[0m \u001b[0mtimeout\u001b[0m\u001b[1;33m=\u001b[0m\u001b[1;32mNone\u001b[0m\u001b[1;33m)\u001b[0m\u001b[1;33m:\u001b[0m\u001b[1;33m\u001b[0m\u001b[0m\n\u001b[1;32m--> 314\u001b[1;33m             \u001b[0mr\u001b[0m\u001b[1;33m,\u001b[0m \u001b[0mw\u001b[0m\u001b[1;33m,\u001b[0m \u001b[0mx\u001b[0m \u001b[1;33m=\u001b[0m \u001b[0mselect\u001b[0m\u001b[1;33m.\u001b[0m\u001b[0mselect\u001b[0m\u001b[1;33m(\u001b[0m\u001b[0mr\u001b[0m\u001b[1;33m,\u001b[0m \u001b[0mw\u001b[0m\u001b[1;33m,\u001b[0m \u001b[0mw\u001b[0m\u001b[1;33m,\u001b[0m \u001b[0mtimeout\u001b[0m\u001b[1;33m)\u001b[0m\u001b[1;33m\u001b[0m\u001b[0m\n\u001b[0m\u001b[0;32m    315\u001b[0m             \u001b[1;32mreturn\u001b[0m \u001b[0mr\u001b[0m\u001b[1;33m,\u001b[0m \u001b[0mw\u001b[0m \u001b[1;33m+\u001b[0m \u001b[0mx\u001b[0m\u001b[1;33m,\u001b[0m \u001b[1;33m[\u001b[0m\u001b[1;33m]\u001b[0m\u001b[1;33m\u001b[0m\u001b[0m\n\u001b[0;32m    316\u001b[0m     \u001b[1;32melse\u001b[0m\u001b[1;33m:\u001b[0m\u001b[1;33m\u001b[0m\u001b[0m\n",
      "\u001b[1;31mKeyboardInterrupt\u001b[0m: "
     ]
    }
   ],
   "source": [
    "from socketserver import TCPServer as TCP,StreamRequestHandler as SRH\n",
    "from time import ctime\n",
    "\n",
    "HOST = ''\n",
    "PORT = 21567\n",
    "ADDR = (HOST, PORT)\n",
    "class MyRequestHandler(SRH):\n",
    "    def handle(self):\n",
    "        print('...connected from:', self.client_address)\n",
    "        self.wfile.write(('[%s] %s' % (ctime(),self.rfile.readline().decode('utf-8'))).encode('utf-8'))\n",
    "tcpServ = TCP(ADDR, MyRequestHandler)\n",
    "print('waiting for connection...')\n",
    "tcpServ.serve_forever()"
   ]
  },
  {
   "cell_type": "code",
   "execution_count": 1,
   "metadata": {},
   "outputs": [
    {
     "name": "stdout",
     "output_type": "stream",
     "text": [
      "waiting for connection...\n",
      "...connected from: 127.0.0.1\n"
     ]
    }
   ],
   "source": [
    "from twisted.internet import protocol,reactor\n",
    "from time import ctime\n",
    "\n",
    "PORT = 21567\n",
    "\n",
    "class TSServProtocol(protocol.Protocol):\n",
    "    def connectionMade(self):\n",
    "        clnt = self.clnt = self.transport.getPeer().host\n",
    "        print('...connected from:', clnt)\n",
    "\n",
    "    def dataReceived(self, data):\n",
    "        self.transport.write(('[%s] %s' % (ctime(), data.decode('utf-8'))).encode('utf-8'))\n",
    "factory = protocol.Factory()\n",
    "factory.protocol = TSServProtocol\n",
    "print('waiting for connection...')\n",
    "reactor.listenTCP(PORT, factory)\n",
    "reactor.run()"
   ]
  },
  {
   "cell_type": "code",
   "execution_count": null,
   "metadata": {},
   "outputs": [],
   "source": []
  }
 ],
 "metadata": {
  "kernelspec": {
   "display_name": "Python 3",
   "language": "python",
   "name": "python3"
  },
  "language_info": {
   "codemirror_mode": {
    "name": "ipython",
    "version": 3
   },
   "file_extension": ".py",
   "mimetype": "text/x-python",
   "name": "python",
   "nbconvert_exporter": "python",
   "pygments_lexer": "ipython3",
   "version": "3.6.2"
  }
 },
 "nbformat": 4,
 "nbformat_minor": 2
}
