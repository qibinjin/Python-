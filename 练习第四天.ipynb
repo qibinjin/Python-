{
 "cells": [
  {
   "cell_type": "code",
   "execution_count": 1,
   "metadata": {},
   "outputs": [],
   "source": [
    "processed = []\n",
    "\n",
    "graph = {}\n",
    "graph['start'] = {} \n",
    "graph['start']['a'] = 6\n",
    "graph['start']['b'] = 2\n",
    "\n",
    "graph['a'] = {}\n",
    "graph['a']['fin'] = 1\n",
    "\n",
    "graph['b'] = {}\n",
    "graph['b']['a'] = 3\n",
    "graph['b']['fin'] = 5\n",
    "\n",
    "graph['fin'] = {}\n",
    "\n",
    "costs = {}\n",
    "costs['a'] = 6\n",
    "costs['b'] = 2\n",
    "costs['fin'] = float('inf')\n",
    "\n",
    "parents = {}\n",
    "parents['a'] = 'start'\n",
    "parents['b'] = 'start'\n",
    "parents['fin'] = None\n",
    "\n",
    "\n",
    "def find_lowest_cost_node(costs):\n",
    "    lowest_cost = float('inf')\n",
    "    lowest_cost_node = None\n",
    "    for node in costs:\n",
    "        cost = costs[node]\n",
    "        if cost < lowest_cost and node not in processed:\n",
    "            lowest_cost = cost\n",
    "            lowest_cost_node = node\n",
    "    return lowest_cost_node\n",
    "    \n",
    "    \n",
    "node = find_lowest_cost_node(costs)\n",
    "\n",
    "while node is not None:\n",
    "    cost = costs[node]\n",
    "    neighbors = graph[node]\n",
    "    \n",
    "    for n in neighbors.keys():\n",
    "        new_cost = cost + neighbors[n]\n",
    "        if new_cost < costs[n]:\n",
    "            costs[n] = new_cost\n",
    "#             print(neighbors)\n",
    "#             print(costs)\n",
    "            parents[n] = node\n",
    "    processed.append(node)\n",
    "    node = find_lowest_cost_node(costs)    \n",
    "print(cost)"
   ]
  },
  {
   "cell_type": "code",
   "execution_count": 2,
   "metadata": {},
   "outputs": [],
   "source": [
    "a = ['acdsda', 'is', 'alpha']\n",
    "ret = ' '.join(a)\n",
    "print(ret)"
   ]
  },
  {
   "cell_type": "code",
   "execution_count": 3,
   "metadata": {},
   "outputs": [],
   "source": [
    "from collections import deque\n",
    "\n",
    "\n",
    "graph = {}\n",
    "graph['you'] = ['alice', 'bob', 'claire']\n",
    "graph['bob'] = ['anuj', 'peggy']\n",
    "graph['alice'] = ['peggy']\n",
    "graph['claire'] = ['thom', 'jonny']\n",
    "graph['anuj'] = []\n",
    "graph['peggy'] = []\n",
    "graph['thom'] = []\n",
    "graph['jonny'] = []\n",
    "\n",
    "\n",
    "def person_is_seller(name):\n",
    "    return name[-1] == 'm'\n",
    "\n",
    "\n",
    "def search(name):\n",
    "    search_queue = deque()\n",
    "    search_queue += graph[name]\n",
    "    searched = []\n",
    "    while search_queue:\n",
    "        print(search_queue)\n",
    "        person = search_queue.popleft()\n",
    "        if person_is_seller(person):\n",
    "            print(person + ' is a mango seller!')\n",
    "            return True\n",
    "        else:\n",
    "            search_queue += graph[person]\n",
    "            searched.append(person)\n",
    "    return False\n",
    "\n",
    "\n",
    "if search('you'):\n",
    "    print(1)"
   ]
  },
  {
   "cell_type": "code",
   "execution_count": 4,
   "metadata": {},
   "outputs": [],
   "source": [
    "print(int('100'))\n",
    "print(type(str(100)))\n",
    "a = 'abcdef'\n",
    "print(a[2])\n",
    "print(a[2:5])\n",
    "print(len(a))\n"
   ]
  },
  {
   "cell_type": "code",
   "execution_count": null,
   "metadata": {},
   "outputs": [],
   "source": [
    "name = input('please input your name')\n",
    "tel = input('please input your phone number')\n",
    "sex = input('please input your sex')\n",
    "print('name: %s\\ntel: %s\\nsex: %s\\n' % (name,tel,sex))"
   ]
  },
  {
   "cell_type": "code",
   "execution_count": null,
   "metadata": {},
   "outputs": [],
   "source": [
    "nums = [11, 22, [33,33], 44, 55]\n",
    "index = 0\n",
    "while index <=4:\n",
    "    print(nums[index])\n",
    "    index += 1"
   ]
  },
  {
   "cell_type": "code",
   "execution_count": null,
   "metadata": {},
   "outputs": [],
   "source": [
    "username = input('please input your username')\n",
    "passwd = input('please input your password')\n",
    "if len(username) >= 6 and len(username)<=20 and username[0].isalpha():\n",
    "    print('your username is OK')\n",
    "else:\n",
    "    print('your username is against the rule')\n"
   ]
  },
  {
   "cell_type": "code",
   "execution_count": null,
   "metadata": {},
   "outputs": [],
   "source": [
    "name = input('please input your name')\n",
    "tel  = input('please input your tel number')\n",
    "sex = input('please input your sex')\n",
    "if len(name) < 6 or len(name) > 20:\n",
    "    print('username against the rule')\n",
    "if len(tel) != 11:\n",
    "    print('tel number must be 11 numbers')\n",
    "if sex != 'male' or sex != 'female':\n",
    "    print('sex must be male or female')"
   ]
  },
  {
   "cell_type": "code",
   "execution_count": null,
   "metadata": {},
   "outputs": [],
   "source": [
    "list1 = input('please input a string')\n",
    "if len(list1) > 31:\n",
    "    print(\"you can't input over 32 words\")\n",
    "else:\n",
    "    print(len(list1))\n",
    "    print(list1[::-1])"
   ]
  },
  {
   "cell_type": "code",
   "execution_count": null,
   "metadata": {},
   "outputs": [],
   "source": [
    "import random\n",
    "list1 = [[],[],[]]\n",
    "teacher = [1, 2, 3, 4, 5, 6, 7, 8]\n",
    "for i in teacher:\n",
    "    list1[random.randint(0,2)].append(i)\n",
    "print(list1)"
   ]
  },
  {
   "cell_type": "code",
   "execution_count": null,
   "metadata": {},
   "outputs": [],
   "source": [
    "str1 = '1234567890'\n",
    "print(str1[0:3])\n",
    "print(str1[-3:])\n",
    "print(str1[:])\n",
    "print(str1[6:])\n",
    "print(str1[:-2])\n",
    "print(str1[2])\n",
    "print(str1[-1])\n",
    "print(str1[::-1])\n",
    "print(str1[-3:])\n",
    "print(str1[::2])"
   ]
  },
  {
   "cell_type": "code",
   "execution_count": 1,
   "metadata": {},
   "outputs": [
    {
     "name": "stdout",
     "output_type": "stream",
     "text": [
      "please input your nameasdsaddsa\n",
      "a:3\n",
      "s:3\n",
      "d:3\n"
     ]
    }
   ],
   "source": [
    "name = input('please input your name')\n",
    "printed = []\n",
    "for i in name:\n",
    "    if i not in printed and i != ' ':\n",
    "        print(i + ':%d' % name.count(i))\n",
    "        printed.append(i)\n"
   ]
  },
  {
   "cell_type": "code",
   "execution_count": 8,
   "metadata": {},
   "outputs": [
    {
     "name": "stdout",
     "output_type": "stream",
     "text": [
      "nameasd\n",
      "name2asd\n",
      "name3asd\n",
      "name3asd\n",
      "name4asd\n"
     ]
    }
   ],
   "source": [
    "name = [input('name'), input('name2'),input('name3'), input('name3'), input('name4')]\n",
    "import random\n",
    "zhiri = name[random.randint(0,4)]"
   ]
  },
  {
   "cell_type": "code",
   "execution_count": 24,
   "metadata": {},
   "outputs": [
    {
     "name": "stdout",
     "output_type": "stream",
     "text": [
      "[['w', 'w'], ['w', 'r', 'b', 'b'], ['w', 'r', 'r', 'b']]\n"
     ]
    }
   ],
   "source": [
    "hezi = [[], [],[]]\n",
    "ball = ['r', 'r', 'r', 'b', 'b', 'b', 'w', 'w', 'w', 'w']\n",
    "for i in hezi:\n",
    "    i.append('w')\n",
    "    ball.remove('w')\n",
    "for i in ball:\n",
    "    hezi[random.randint(0,2)].append(i)\n",
    "print(hezi)"
   ]
  },
  {
   "cell_type": "code",
   "execution_count": 42,
   "metadata": {},
   "outputs": [
    {
     "name": "stdout",
     "output_type": "stream",
     "text": [
      "thom is a mango seller\n"
     ]
    },
    {
     "data": {
      "text/plain": [
       "False"
      ]
     },
     "execution_count": 42,
     "metadata": {},
     "output_type": "execute_result"
    }
   ],
   "source": [
    "graph = {}\n",
    "graph['you'] = ['alice', 'bob', 'claire']\n",
    "graph['alice'] = ['peggy']\n",
    "graph['bob'] = ['anuj', 'peggy']\n",
    "graph['claire'] = ['jonny', 'thom']\n",
    "graph['peggy'] = []\n",
    "graph['anuj'] = []\n",
    "graph['peggy'] = []\n",
    "graph['jonny'] = []\n",
    "graph['thom'] = []\n",
    "\n",
    "from collections import deque\n",
    "\n",
    "def is_mango_seller(name):\n",
    "    return name[-1] == 'm'\n",
    "\n",
    "def search(name):\n",
    "    searched_queue = deque()\n",
    "    searched_queue += graph[name]\n",
    "    searched = []\n",
    "    while searched_queue:\n",
    "        person = searched_queue.popleft()\n",
    "        if not person in searched:\n",
    "            if is_mango_seller(person):\n",
    "                print(person + ' is a mango seller')\n",
    "            else:\n",
    "                searched_queue += graph[person]\n",
    "                searched.append(person)\n",
    "    return False\n",
    "search('you')"
   ]
  },
  {
   "cell_type": "code",
   "execution_count": 73,
   "metadata": {},
   "outputs": [
    {
     "name": "stdout",
     "output_type": "stream",
     "text": [
      "7\n"
     ]
    }
   ],
   "source": [
    "graph = {}\n",
    "# graph['you'] = {'alice', 'bob', 'claire'}\n",
    "\n",
    "graph['start'] = {}\n",
    "graph['start']['a'] = 6\n",
    "graph['start']['b'] = 2\n",
    "\n",
    "graph['a'] = {}\n",
    "graph['a']['fin'] = 1\n",
    "graph['b'] = {}\n",
    "graph['b']['a'] = 3\n",
    "graph['b']['fin'] = 5\n",
    "graph['fin'] = {}\n",
    "\n",
    "infinity = float('inf')\n",
    "costs = {}\n",
    "costs['a'] = 6\n",
    "costs['b'] = 2\n",
    "costs['fin'] = infinity\n",
    "\n",
    "parents = {}\n",
    "parents['a'] = 'start'\n",
    "parents['b'] = 'start'\n",
    "parents['fin'] = None\n",
    "processed = []\n",
    "\n",
    "def find_lowest_cost_node(costs):\n",
    "    lowest_cost = float('inf')\n",
    "    lowest_cost_node = None\n",
    "    for node in costs:\n",
    "        cost = costs[node]\n",
    "        if cost < lowest_cost and cost not in processed:\n",
    "            lowest_cost = cost\n",
    "            lowest_cost_node = node\n",
    "    return lowest_cost_node\n",
    "\n",
    "node = find_lowest_cost_node(costs)\n",
    "while node is not None:\n",
    "    cost = costs[node]\n",
    "    neighbors = graph[node]\n",
    "    for n in neighbors:\n",
    "        new_cost = cost + neighbors[n]\n",
    "        if new_cost < costs[n]:\n",
    "            costs[n] = new_cost\n",
    "            parents[n] = node\n",
    "    node = find_lowest_cost_node(neighbors)        \n",
    "print(cost)"
   ]
  },
  {
   "cell_type": "code",
   "execution_count": null,
   "metadata": {},
   "outputs": [],
   "source": []
  }
 ],
 "metadata": {
  "kernelspec": {
   "display_name": "Python 3",
   "language": "python",
   "name": "python3"
  },
  "language_info": {
   "codemirror_mode": {
    "name": "ipython",
    "version": 3
   },
   "file_extension": ".py",
   "mimetype": "text/x-python",
   "name": "python",
   "nbconvert_exporter": "python",
   "pygments_lexer": "ipython3",
   "version": "3.6.2"
  }
 },
 "nbformat": 4,
 "nbformat_minor": 2
}
