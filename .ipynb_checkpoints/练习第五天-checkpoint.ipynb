{
 "cells": [
  {
   "cell_type": "code",
   "execution_count": 2,
   "metadata": {},
   "outputs": [
    {
     "name": "stdout",
     "output_type": "stream",
     "text": [
      "['xiaoming', 'nini', 'xiaohong', 'xiaogang', 1, 2, 3]\n"
     ]
    }
   ],
   "source": [
    "my_list = ['xiaoming', 'xiaohong']\n",
    "my_list.append('xiaogang')\n",
    "my_list.insert(1, 'nini')\n",
    "my_list.extend([1,2,3])\n",
    "print(my_list)"
   ]
  },
  {
   "cell_type": "code",
   "execution_count": 19,
   "metadata": {},
   "outputs": [
    {
     "name": "stdout",
     "output_type": "stream",
     "text": [
      "thom is a mango seller\n"
     ]
    },
    {
     "data": {
      "text/plain": [
       "True"
      ]
     },
     "execution_count": 19,
     "metadata": {},
     "output_type": "execute_result"
    }
   ],
   "source": [
    "graph = {}\n",
    "graph['you'] = ['alice', 'bob', 'claire']\n",
    "\n",
    "graph['alice'] = ['peggy']\n",
    "graph['bob'] = ['anuj', 'peggy']\n",
    "graph['claire'] = ['thom', 'jonny']\n",
    "\n",
    "graph['anuj'] = ['name']\n",
    "graph['peggy'] = ['andy']\n",
    "graph['thom'] = ['mike']\n",
    "graph['jonny'] = ['str']\n",
    "\n",
    "graph['name'] = []\n",
    "graph['andy'] = []\n",
    "graph['mike'] = []\n",
    "graph['str'] = []\n",
    "\n",
    "from collections import deque\n",
    "\n",
    "def is_mango_seller(name):\n",
    "    return name[-1] == 'm'\n",
    "\n",
    "\n",
    "def search(name):\n",
    "    searched = []\n",
    "    searched_queue = deque()\n",
    "    searched_queue += graph[name]\n",
    "    while searched_queue:\n",
    "        n = searched_queue.popleft()\n",
    "        if n not in searched:\n",
    "            if is_mango_seller(n):\n",
    "                print(n + ' is a mango seller')\n",
    "                return True\n",
    "            else:\n",
    "                searched_queue += graph[n]\n",
    "                searched.append(n)\n",
    "    return False\n",
    "search('you')\n"
   ]
  },
  {
   "cell_type": "code",
   "execution_count": 13,
   "metadata": {},
   "outputs": [
    {
     "name": "stdout",
     "output_type": "stream",
     "text": [
      "[1, 3, 5, 6, 7, 8]\n",
      "[8, 7, 6, 5, 3, 1]\n"
     ]
    }
   ],
   "source": [
    "my_list = [1, 3, 5, 6, 7, 8]\n",
    "my_list.sort()\n",
    "print(my_list)\n",
    "my_list.sort(reverse = True)\n",
    "print(my_list)"
   ]
  },
  {
   "cell_type": "code",
   "execution_count": 26,
   "metadata": {},
   "outputs": [
    {
     "name": "stdout",
     "output_type": "stream",
     "text": [
      "6\n"
     ]
    }
   ],
   "source": [
    "graph = {}\n",
    "\n",
    "graph['start'] = {}\n",
    "graph['start']['a'] = 6 \n",
    "graph['start']['b'] = 2\n",
    "\n",
    "graph['a'] = {}\n",
    "graph['a']['fin'] = 1\n",
    "\n",
    "graph['b'] = {}\n",
    "graph['b']['a'] = 3\n",
    "graph['b']['fin'] = 5\n",
    "\n",
    "graph['fin'] = {}\n",
    "\n",
    "costs = {}\n",
    "costs['a'] = 6\n",
    "costs['b'] = 2\n",
    "costs['fin'] = float('inf')\n",
    "\n",
    "parents = {}\n",
    "parents['a'] = 'start'\n",
    "parents['b'] = 'start'\n",
    "parents['fin'] = None\n",
    "\n",
    "processed = []\n",
    "\n",
    "def find_lowest_cost_node(costs):\n",
    "    lowest_cost = float('inf')\n",
    "    lowest_cost_node = None\n",
    "    for node in costs:\n",
    "        if costs[node] < lowest_cost:\n",
    "            lowest_cost = costs[node]\n",
    "            lowest_cost_node = node\n",
    "    return lowest_cost_node\n",
    "\n",
    "\n",
    "node = find_lowest_cost_node(costs)\n",
    "while node is not None:\n",
    "    cost = costs[node]\n",
    "    neighbors = graph[node]\n",
    "    for n in neighbors:\n",
    "        new_cost = cost + neighbors[n]\n",
    "        if new_cost < costs[n]:\n",
    "            costs[n] = new_cost\n",
    "            parents[n] = node\n",
    "    processed.append(node)\n",
    "    node = find_lowest_cost_node(neighbors)\n",
    "    \n",
    "print(cost)"
   ]
  },
  {
   "cell_type": "code",
   "execution_count": 44,
   "metadata": {},
   "outputs": [
    {
     "name": "stdout",
     "output_type": "stream",
     "text": [
      "<class 'str'> <class 'str'>\n",
      "<class 'str'> <class 'int'>\n"
     ]
    }
   ],
   "source": [
    "my_dict = {'name': 'xiaoming', 'age': 18}\n",
    "for key, value in my_dict.items():\n",
    "    "
   ]
  },
  {
   "cell_type": "code",
   "execution_count": 53,
   "metadata": {},
   "outputs": [
    {
     "name": "stdout",
     "output_type": "stream",
     "text": [
      "1\n",
      "3\n"
     ]
    }
   ],
   "source": [
    "my_set1 = {1, 3, 5, 7, 8, 9}\n",
    "my_set2 = {1, 3, 6, 4, 10, 12}\n",
    "abc = my_set1 & my_set2\n",
    "for i in abc:\n",
    "    print(i)"
   ]
  },
  {
   "cell_type": "code",
   "execution_count": 32,
   "metadata": {},
   "outputs": [
    {
     "name": "stdout",
     "output_type": "stream",
     "text": [
      "{'kfive', 'ktwo', 'kone', 'kthree'}\n"
     ]
    }
   ],
   "source": [
    "\n",
    "def best_station():\n",
    "    states_needed = set(['mt' , 'wa', 'or', 'id', 'nv', 'ut', 'ca', 'az'])\n",
    "    stations = {}\n",
    "    stations['kone'] = set(['id', 'nv', 'ut'])\n",
    "    stations['ktwo'] = set(['wa', 'id', 'mt'])\n",
    "    stations['kthree'] = set(['or', 'nv', 'ca'])\n",
    "    stations['kfour'] = set(['nv', 'ut'])\n",
    "    stations['kfive'] = set(['ca', 'az'])\n",
    "\n",
    "    final_stations = set()\n",
    "    while states_needed:\n",
    "        best_station = None\n",
    "        states_covered = set()\n",
    "        for station, states in stations.items():\n",
    "            covered = states_needed & states\n",
    "    #         print(covered)\n",
    "    #         print(states_covered)\n",
    "            if len(covered) > len(states_covered):\n",
    "                best_station = station\n",
    "                states_covered = covered\n",
    "        states_needed -= states_covered\n",
    "        final_stations.add(best_station)\n",
    "best_station()\n",
    "print(final_stations)"
   ]
  },
  {
   "cell_type": "code",
   "execution_count": 30,
   "metadata": {},
   "outputs": [],
   "source": [
    "from sklearn.linear_model import LogisticRegression\n",
    "from sklearn.svm import SVC, LinearSVC\n",
    "from sklearn.ensemble import RandomForestClassifier\n",
    "from sklearn.neighbors import KNeighborsClassifier\n",
    "from sklearn.naive_bayes import GaussianNB\n",
    "from sklearn.linear_model import Perceptron\n",
    "from sklearn.linear_model import SGDClassifier\n",
    "from sklearn.tree import DecisionTreeClassifier\n",
    "from sklearn.model_selection import GridSearchCV"
   ]
  },
  {
   "cell_type": "code",
   "execution_count": 38,
   "metadata": {},
   "outputs": [
    {
     "name": "stdout",
     "output_type": "stream",
     "text": [
      "please input your namename\n",
      "pleasee input your age14\n",
      "please input your student's number123213\n"
     ]
    }
   ],
   "source": [
    "info = {}\n",
    "info['name'] = input('please input your name')\n",
    "info['age'] = input('pleasee input your age')\n",
    "info['No'] = input(\"please input your student's number\")\n"
   ]
  },
  {
   "cell_type": "code",
   "execution_count": 46,
   "metadata": {},
   "outputs": [
    {
     "name": "stdout",
     "output_type": "stream",
     "text": [
      "Please input dates:20181345\n",
      "your number is illegal\n"
     ]
    }
   ],
   "source": [
    "fei_list = [0, 31, 28, 31, 30, 31, 30, 31, 31, 30, 31, 31, 31]\n",
    "run_list = [0, 31, 29, 31, 30, 31, 30, 31, 31, 30, 31, 31, 31]\n",
    "try:\n",
    "    date = input('Please input dates:')\n",
    "    year = int(date[:4])\n",
    "    month = int(date[4:6])\n",
    "    day = int(date[6:])\n",
    "    \n",
    "    if month >= 1 and month <= 12:\n",
    "        if year % 4 == 0 and year % 100 or year % 400 == 0:\n",
    "            is_runnian = True\n",
    "#             print('is Runnian')\n",
    "        else:\n",
    "            is_runnian = False\n",
    "           \n",
    "        if is_runnian:\n",
    "            if day >= 1 and day <= run_list[month]:\n",
    "                print('your number is OK')\n",
    "            else:\n",
    "                print('your number is illegal')\n",
    "        else:\n",
    "            if day >= 1 and day <= fei_list[month]:\n",
    "                print('your number is OK')\n",
    "            else:\n",
    "                print('your number is illegal')\n",
    "    else:\n",
    "        print('your number is illegal')\n",
    "except(ValueError):\n",
    "    print('please input right date')\n"
   ]
  },
  {
   "cell_type": "code",
   "execution_count": 44,
   "metadata": {},
   "outputs": [
    {
     "name": "stdout",
     "output_type": "stream",
     "text": [
      "would you want regist or login? \n",
      "R:注册\n",
      "L:登录\n",
      "Q:退出\n",
      "lo:退出登录\n",
      "r\n",
      "please input your usernameqibin123\n",
      "please input your passwordqibin123\n",
      "please input your nicknameasd\n",
      "please input your age12\n",
      "would you want regist or login? \n",
      "R:注册\n",
      "L:登录\n",
      "Q:退出\n",
      "lo:退出登录\n",
      "l\n",
      "please input your usernameqibin123\n",
      "please input your passwordqibin123\n",
      "{'username': 'qibin123', 'passwd': 'qibin123', 'nickname': 'asd', 'age': '12'}\n",
      "You have login\n",
      "would you want regist or login? \n",
      "R:注册\n",
      "L:登录\n",
      "Q:退出\n",
      "lo:退出登录\n",
      "l\n",
      "already login\n",
      "would you want regist or login? \n",
      "R:注册\n",
      "L:登录\n",
      "Q:退出\n",
      "lo:退出登录\n",
      "lo\n",
      "you have log out\n",
      "would you want regist or login? \n",
      "R:注册\n",
      "L:登录\n",
      "Q:退出\n",
      "lo:退出登录\n",
      "l\n",
      "please input your usernameqibin123\n",
      "please input your passwordqibin123\n",
      "{'username': 'qibin123', 'passwd': 'qibin123', 'nickname': 'asd', 'age': '12'}\n",
      "You have login\n",
      "would you want regist or login? \n",
      "R:注册\n",
      "L:登录\n",
      "Q:退出\n",
      "lo:退出登录\n",
      "q\n",
      "program exit completely\n"
     ]
    }
   ],
   "source": [
    "sql = []\n",
    "login = False\n",
    "while 1:\n",
    "    first = input('would you want regist or login? \\nR:注册\\nL:登录\\nQ:退出\\nlo:退出登录\\n')\n",
    "    if  first in ['r', 'R']:#注册操作\n",
    "        data = {}\n",
    "        data['username'] = input('please input your username')\n",
    "        while len(data['username']) > 20 or len(data['username']) < 6:\n",
    "            data['username'] = input('please input your username within 6-20')\n",
    "        \n",
    "        data['passwd'] = input('please input your password')\n",
    "        while len(data['passwd']) > 20 or len(data['passwd']) < 8:\n",
    "            data['passwd'] = input('please input your password within 8-20')\n",
    "        \n",
    "        data['nickname'] = input('please input your nickname')\n",
    "        data['age'] = input('please input your age')\n",
    "            \n",
    "    \n",
    "        sql.append(data)\n",
    "#         print(sql)\n",
    "    elif first in ['l', 'L']: #登录操作\n",
    "        if not login:\n",
    "            while 1:   \n",
    "                Id = input('please input your username')\n",
    "                pa = input('please input your password')\n",
    "                \n",
    "                for user in sql:# 确认用户名密码是否在数组中\n",
    "#                     print(i)\n",
    "                    if Id == user['username'] and pa == user['passwd']:\n",
    "                        login = True\n",
    "                        print('You have login')\n",
    "                    else:\n",
    "                        continue\n",
    "                else:  \n",
    "                    if not login: \n",
    "                        print('your username or password is wrong')\n",
    "                        break\n",
    "                break\n",
    "        else:\n",
    "            print('already login')\n",
    "            \n",
    "    elif first in ['lo', 'lo']: #登出操作\n",
    "        login = False\n",
    "        print('you have log out')\n",
    "        \n",
    "    elif first in ['q', 'Q']:#退出整个程序\n",
    "        break    \n",
    "    \n",
    "    \n",
    "print('program exit completely')"
   ]
  },
  {
   "cell_type": "code",
   "execution_count": 36,
   "metadata": {},
   "outputs": [
    {
     "name": "stdout",
     "output_type": "stream",
     "text": [
      "欢迎使用 用户注册登录系统V2.0\n",
      "1.登录\n",
      "2.注册\n",
      "3.注销登录\n",
      "请输入要操作的数字:1\n",
      "请输入帐号：asd\n",
      "请输入密码：asd\n",
      "登录失败，帐号或密码错误！\n",
      "欢迎使用 用户注册登录系统V2.0\n",
      "1.登录\n",
      "2.注册\n",
      "3.注销登录\n",
      "请输入要操作的数字:2\n",
      "请输入账号:qibin1\n",
      "请输入密码:qibin1\n",
      "密码长度需要在 8-20 个字符\n",
      "请输入密码:qibin121\n",
      "请输入昵称：asdasd\n",
      "请输入年龄：asdasd\n",
      "欢迎使用 用户注册登录系统V2.0\n",
      "1.登录\n",
      "2.注册\n",
      "3.注销登录\n",
      "请输入要操作的数字:1\n",
      "请输入帐号：qibin1\n",
      "请输入密码：qibin121\n",
      "登录成功\n",
      "欢迎使用 用户注册登录系统V2.0\n",
      "1.登录\n",
      "2.注册\n",
      "3.注销登录\n",
      "请输入要操作的数字:1\n",
      "已经登录了一个帐号 qibin1，请先注销！\n",
      "欢迎使用 用户注册登录系统V2.0\n",
      "1.登录\n",
      "2.注册\n",
      "3.注销登录\n",
      "请输入要操作的数字:asd\n",
      "欢迎使用 用户注册登录系统V2.0\n",
      "1.登录\n",
      "2.注册\n",
      "3.注销登录\n",
      "请输入要操作的数字:\n",
      "欢迎使用 用户注册登录系统V2.0\n",
      "1.登录\n",
      "2.注册\n",
      "3.注销登录\n",
      "请输入要操作的数字:asd\n",
      "欢迎使用 用户注册登录系统V2.0\n",
      "1.登录\n",
      "2.注册\n",
      "3.注销登录\n",
      "请输入要操作的数字:3\n",
      "注销成功！\n",
      "欢迎使用 用户注册登录系统V2.0\n",
      "1.登录\n",
      "2.注册\n",
      "3.注销登录\n",
      "请输入要操作的数字:3\n",
      "您还没有登录！\n",
      "欢迎使用 用户注册登录系统V2.0\n",
      "1.登录\n",
      "2.注册\n",
      "3.注销登录\n",
      "请输入要操作的数字:w\n",
      "欢迎使用 用户注册登录系统V2.0\n",
      "1.登录\n",
      "2.注册\n",
      "3.注销登录\n",
      "请输入要操作的数字:w\n",
      "欢迎使用 用户注册登录系统V2.0\n",
      "1.登录\n",
      "2.注册\n",
      "3.注销登录\n",
      "请输入要操作的数字:s\n"
     ]
    },
    {
     "ename": "KeyboardInterrupt",
     "evalue": "",
     "output_type": "error",
     "traceback": [
      "\u001b[1;31m---------------------------------------------------------------------------\u001b[0m",
      "\u001b[1;31mKeyboardInterrupt\u001b[0m                         Traceback (most recent call last)",
      "\u001b[1;32mc:\\python36\\lib\\site-packages\\ipykernel\\kernelbase.py\u001b[0m in \u001b[0;36m_input_request\u001b[1;34m(self, prompt, ident, parent, password)\u001b[0m\n\u001b[0;32m    728\u001b[0m             \u001b[1;32mtry\u001b[0m\u001b[1;33m:\u001b[0m\u001b[1;33m\u001b[0m\u001b[0m\n\u001b[1;32m--> 729\u001b[1;33m                 \u001b[0mident\u001b[0m\u001b[1;33m,\u001b[0m \u001b[0mreply\u001b[0m \u001b[1;33m=\u001b[0m \u001b[0mself\u001b[0m\u001b[1;33m.\u001b[0m\u001b[0msession\u001b[0m\u001b[1;33m.\u001b[0m\u001b[0mrecv\u001b[0m\u001b[1;33m(\u001b[0m\u001b[0mself\u001b[0m\u001b[1;33m.\u001b[0m\u001b[0mstdin_socket\u001b[0m\u001b[1;33m,\u001b[0m \u001b[1;36m0\u001b[0m\u001b[1;33m)\u001b[0m\u001b[1;33m\u001b[0m\u001b[0m\n\u001b[0m\u001b[0;32m    730\u001b[0m             \u001b[1;32mexcept\u001b[0m \u001b[0mException\u001b[0m\u001b[1;33m:\u001b[0m\u001b[1;33m\u001b[0m\u001b[0m\n",
      "\u001b[1;32mc:\\python36\\lib\\site-packages\\jupyter_client\\session.py\u001b[0m in \u001b[0;36mrecv\u001b[1;34m(self, socket, mode, content, copy)\u001b[0m\n\u001b[0;32m    802\u001b[0m         \u001b[1;32mtry\u001b[0m\u001b[1;33m:\u001b[0m\u001b[1;33m\u001b[0m\u001b[0m\n\u001b[1;32m--> 803\u001b[1;33m             \u001b[0mmsg_list\u001b[0m \u001b[1;33m=\u001b[0m \u001b[0msocket\u001b[0m\u001b[1;33m.\u001b[0m\u001b[0mrecv_multipart\u001b[0m\u001b[1;33m(\u001b[0m\u001b[0mmode\u001b[0m\u001b[1;33m,\u001b[0m \u001b[0mcopy\u001b[0m\u001b[1;33m=\u001b[0m\u001b[0mcopy\u001b[0m\u001b[1;33m)\u001b[0m\u001b[1;33m\u001b[0m\u001b[0m\n\u001b[0m\u001b[0;32m    804\u001b[0m         \u001b[1;32mexcept\u001b[0m \u001b[0mzmq\u001b[0m\u001b[1;33m.\u001b[0m\u001b[0mZMQError\u001b[0m \u001b[1;32mas\u001b[0m \u001b[0me\u001b[0m\u001b[1;33m:\u001b[0m\u001b[1;33m\u001b[0m\u001b[0m\n",
      "\u001b[1;32mc:\\python36\\lib\\site-packages\\zmq\\sugar\\socket.py\u001b[0m in \u001b[0;36mrecv_multipart\u001b[1;34m(self, flags, copy, track)\u001b[0m\n\u001b[0;32m    465\u001b[0m         \"\"\"\n\u001b[1;32m--> 466\u001b[1;33m         \u001b[0mparts\u001b[0m \u001b[1;33m=\u001b[0m \u001b[1;33m[\u001b[0m\u001b[0mself\u001b[0m\u001b[1;33m.\u001b[0m\u001b[0mrecv\u001b[0m\u001b[1;33m(\u001b[0m\u001b[0mflags\u001b[0m\u001b[1;33m,\u001b[0m \u001b[0mcopy\u001b[0m\u001b[1;33m=\u001b[0m\u001b[0mcopy\u001b[0m\u001b[1;33m,\u001b[0m \u001b[0mtrack\u001b[0m\u001b[1;33m=\u001b[0m\u001b[0mtrack\u001b[0m\u001b[1;33m)\u001b[0m\u001b[1;33m]\u001b[0m\u001b[1;33m\u001b[0m\u001b[0m\n\u001b[0m\u001b[0;32m    467\u001b[0m         \u001b[1;31m# have first part already, only loop while more to receive\u001b[0m\u001b[1;33m\u001b[0m\u001b[1;33m\u001b[0m\u001b[0m\n",
      "\u001b[1;32mzmq\\backend\\cython\\socket.pyx\u001b[0m in \u001b[0;36mzmq.backend.cython.socket.Socket.recv\u001b[1;34m()\u001b[0m\n",
      "\u001b[1;32mzmq\\backend\\cython\\socket.pyx\u001b[0m in \u001b[0;36mzmq.backend.cython.socket.Socket.recv\u001b[1;34m()\u001b[0m\n",
      "\u001b[1;32mzmq\\backend\\cython\\socket.pyx\u001b[0m in \u001b[0;36mzmq.backend.cython.socket._recv_copy\u001b[1;34m()\u001b[0m\n",
      "\u001b[1;32mc:\\python36\\lib\\site-packages\\zmq\\backend\\cython\\checkrc.pxd\u001b[0m in \u001b[0;36mzmq.backend.cython.checkrc._check_rc\u001b[1;34m()\u001b[0m\n",
      "\u001b[1;31mKeyboardInterrupt\u001b[0m: ",
      "\nDuring handling of the above exception, another exception occurred:\n",
      "\u001b[1;31mKeyboardInterrupt\u001b[0m                         Traceback (most recent call last)",
      "\u001b[1;32m<ipython-input-36-854224a4ebac>\u001b[0m in \u001b[0;36m<module>\u001b[1;34m()\u001b[0m\n\u001b[0;32m     13\u001b[0m \u001b[1;33m\u001b[0m\u001b[0m\n\u001b[0;32m     14\u001b[0m     \u001b[1;31m# 获取用户操作\u001b[0m\u001b[1;33m\u001b[0m\u001b[1;33m\u001b[0m\u001b[0m\n\u001b[1;32m---> 15\u001b[1;33m     \u001b[0mcommand\u001b[0m \u001b[1;33m=\u001b[0m \u001b[0minput\u001b[0m\u001b[1;33m(\u001b[0m\u001b[1;34m\"请输入要操作的数字:\"\u001b[0m\u001b[1;33m)\u001b[0m\u001b[1;33m\u001b[0m\u001b[0m\n\u001b[0m\u001b[0;32m     16\u001b[0m \u001b[1;33m\u001b[0m\u001b[0m\n\u001b[0;32m     17\u001b[0m     \u001b[1;31m# 判断用户操作\u001b[0m\u001b[1;33m\u001b[0m\u001b[1;33m\u001b[0m\u001b[0m\n",
      "\u001b[1;32mc:\\python36\\lib\\site-packages\\ipykernel\\kernelbase.py\u001b[0m in \u001b[0;36mraw_input\u001b[1;34m(self, prompt)\u001b[0m\n\u001b[0;32m    702\u001b[0m             \u001b[0mself\u001b[0m\u001b[1;33m.\u001b[0m\u001b[0m_parent_ident\u001b[0m\u001b[1;33m,\u001b[0m\u001b[1;33m\u001b[0m\u001b[0m\n\u001b[0;32m    703\u001b[0m             \u001b[0mself\u001b[0m\u001b[1;33m.\u001b[0m\u001b[0m_parent_header\u001b[0m\u001b[1;33m,\u001b[0m\u001b[1;33m\u001b[0m\u001b[0m\n\u001b[1;32m--> 704\u001b[1;33m             \u001b[0mpassword\u001b[0m\u001b[1;33m=\u001b[0m\u001b[1;32mFalse\u001b[0m\u001b[1;33m,\u001b[0m\u001b[1;33m\u001b[0m\u001b[0m\n\u001b[0m\u001b[0;32m    705\u001b[0m         )\n\u001b[0;32m    706\u001b[0m \u001b[1;33m\u001b[0m\u001b[0m\n",
      "\u001b[1;32mc:\\python36\\lib\\site-packages\\ipykernel\\kernelbase.py\u001b[0m in \u001b[0;36m_input_request\u001b[1;34m(self, prompt, ident, parent, password)\u001b[0m\n\u001b[0;32m    732\u001b[0m             \u001b[1;32mexcept\u001b[0m \u001b[0mKeyboardInterrupt\u001b[0m\u001b[1;33m:\u001b[0m\u001b[1;33m\u001b[0m\u001b[0m\n\u001b[0;32m    733\u001b[0m                 \u001b[1;31m# re-raise KeyboardInterrupt, to truncate traceback\u001b[0m\u001b[1;33m\u001b[0m\u001b[1;33m\u001b[0m\u001b[0m\n\u001b[1;32m--> 734\u001b[1;33m                 \u001b[1;32mraise\u001b[0m \u001b[0mKeyboardInterrupt\u001b[0m\u001b[1;33m\u001b[0m\u001b[0m\n\u001b[0m\u001b[0;32m    735\u001b[0m             \u001b[1;32melse\u001b[0m\u001b[1;33m:\u001b[0m\u001b[1;33m\u001b[0m\u001b[0m\n\u001b[0;32m    736\u001b[0m                 \u001b[1;32mbreak\u001b[0m\u001b[1;33m\u001b[0m\u001b[0m\n",
      "\u001b[1;31mKeyboardInterrupt\u001b[0m: "
     ]
    }
   ],
   "source": [
    "# 准备空列表\n",
    "users = []\n",
    "\n",
    "# 准备当前在线用户\n",
    "online_user = {}\n",
    "\n",
    "while True:\n",
    "    # 打印系统提示\n",
    "    print(\"欢迎使用 用户注册登录系统V2.0\")\n",
    "    print(\"1.登录\")\n",
    "    print(\"2.注册\")\n",
    "    print(\"3.注销登录\")\n",
    "\n",
    "    # 获取用户操作\n",
    "    command = input(\"请输入要操作的数字:\")\n",
    "\n",
    "    # 判断用户操作\n",
    "    if command == '1':\n",
    "        # 登录\n",
    "        if len(online_user) != 0:  # 在线用户的字典里有数据，说明已经有用户登录 \n",
    "            print(\"已经登录了一个帐号 %s，请先注销！\" % online_user['acc'])\n",
    "            continue\n",
    "\n",
    "        # 获取帐号、密码\n",
    "        acc = input(\"请输入帐号：\")\n",
    "        pwd = input(\"请输入密码：\")\n",
    "\n",
    "        # 判断是否存在匹配的帐号密码\n",
    "        for user in users:\n",
    "            if user['acc'] == acc and user['pwd'] == pwd:\n",
    "                print(\"登录成功\")\n",
    "                online_user = user\n",
    "                break\n",
    "        else:\n",
    "            print(\"登录失败，帐号或密码错误！\")\n",
    "\n",
    "    elif command == '2':\n",
    "        # 注册\n",
    "        # 获取用户信息\n",
    "        # 帐号\n",
    "        while True:\n",
    "            acc = input(\"请输入账号:\")\n",
    "            if len(acc) < 6 or len (acc) > 20:\n",
    "                print(\"帐号长度需要在 6-20 个字符\")\n",
    "                continue\n",
    "            else:\n",
    "                break\n",
    "\n",
    "        # 密码\n",
    "        while True:\n",
    "            pwd = input(\"请输入密码:\")\n",
    "            if len(pwd) < 8 or len (pwd) > 20:\n",
    "                print(\"密码长度需要在 8-20 个字符\")\n",
    "                continue\n",
    "            else:\n",
    "                break\n",
    "\n",
    "        # 昵称\n",
    "        nick = input(\"请输入昵称：\")\n",
    "\n",
    "        # 年龄\n",
    "        age = input(\"请输入年龄：\")\n",
    "\n",
    "        # 保存信息到字典\n",
    "        info = {}\n",
    "        info['acc'] = acc\n",
    "        info['pwd'] = pwd\n",
    "        info['nick'] = nick\n",
    "        info['age'] = age\n",
    "\n",
    "        # 保存字典到用户列表\n",
    "        users.append(info)\n",
    "\n",
    "    elif command == '3':\n",
    "        # 注销登录\n",
    "        if len(online_user) != 0:\n",
    "            online_user = {}\n",
    "            print(\"注销成功！\")\n",
    "        else:\n",
    "            print(\"您还没有登录！\")"
   ]
  },
  {
   "cell_type": "code",
   "execution_count": null,
   "metadata": {},
   "outputs": [],
   "source": []
  }
 ],
 "metadata": {
  "kernelspec": {
   "display_name": "Python 3",
   "language": "python",
   "name": "python3"
  },
  "language_info": {
   "codemirror_mode": {
    "name": "ipython",
    "version": 3
   },
   "file_extension": ".py",
   "mimetype": "text/x-python",
   "name": "python",
   "nbconvert_exporter": "python",
   "pygments_lexer": "ipython3",
   "version": "3.6.2"
  }
 },
 "nbformat": 4,
 "nbformat_minor": 2
}
