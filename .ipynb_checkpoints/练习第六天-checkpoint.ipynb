{
 "cells": [
  {
   "cell_type": "code",
   "execution_count": 1,
   "metadata": {},
   "outputs": [
    {
     "name": "stdout",
     "output_type": "stream",
     "text": [
      "a12345678\n",
      "name\n",
      "aaaaaa\n"
     ]
    }
   ],
   "source": [
    "def my_print():\n",
    "    print('a12345678')\n",
    "    print('name')\n",
    "    print('aaaaaa')\n",
    "my_print()"
   ]
  },
  {
   "cell_type": "code",
   "execution_count": 4,
   "metadata": {},
   "outputs": [
    {
     "name": "stdout",
     "output_type": "stream",
     "text": [
      "asd\n"
     ]
    }
   ],
   "source": [
    "def _gender():\n",
    "    print('asd')\n",
    "_gender()"
   ]
  },
  {
   "cell_type": "code",
   "execution_count": 5,
   "metadata": {},
   "outputs": [
    {
     "name": "stdout",
     "output_type": "stream",
     "text": [
      "6000\n"
     ]
    }
   ],
   "source": [
    "def multi(a, b, c):\n",
    "    print(a * b * c)\n",
    "multi(10, 20, 30)"
   ]
  },
  {
   "cell_type": "code",
   "execution_count": 11,
   "metadata": {},
   "outputs": [
    {
     "name": "stdout",
     "output_type": "stream",
     "text": [
      "<function hm_max at 0x0000000004E71400>\n"
     ]
    },
    {
     "data": {
      "text/plain": [
       "123"
      ]
     },
     "execution_count": 11,
     "metadata": {},
     "output_type": "execute_result"
    }
   ],
   "source": [
    "a_list = [1, 6, 10, 123, 123]\n",
    "hm_max = 98\n",
    "def hm_max(a):\n",
    "    my_max = a[0]\n",
    "    for i in a:\n",
    "        if i > my_max:\n",
    "            my_max = i\n",
    "    return my_max\n",
    "hm_max(a_list)"
   ]
  },
  {
   "cell_type": "code",
   "execution_count": 12,
   "metadata": {},
   "outputs": [
    {
     "name": "stdout",
     "output_type": "stream",
     "text": [
      "60\n"
     ]
    }
   ],
   "source": [
    "def add3num(num1, num2, num3):\n",
    "    return num1 + num2 + num3\n",
    "\n",
    "print(add3num(10, 20, 30))"
   ]
  },
  {
   "cell_type": "code",
   "execution_count": 15,
   "metadata": {},
   "outputs": [
    {
     "name": "stdout",
     "output_type": "stream",
     "text": [
      "30\n"
     ]
    }
   ],
   "source": [
    "def add2num(*, a, b):\n",
    "    return a + b\n",
    "print(add2num(a = 10, b = 20))"
   ]
  },
  {
   "cell_type": "code",
   "execution_count": 1,
   "metadata": {},
   "outputs": [
    {
     "name": "stdout",
     "output_type": "stream",
     "text": [
      "[TopTest: attr1=0, attr2=1]\n",
      "[SubTest: attr1=2, attr2=3]\n",
      "[TopTest: attr1=4, attr2=5]\n"
     ]
    }
   ],
   "source": [
    "class AttrDisplay:\n",
    "    def gatherAttrs(self):\n",
    "        attrs = []\n",
    "        for key in sorted(self.__dict__):\n",
    "            attrs.append('%s=%s' % (key, getattr(self, key)))\n",
    "        return ', '.join(attrs)\n",
    "    def __str__(self):\n",
    "        return '[%s: %s]' % (self.__class__.__name__, self.gatherAttrs())\n",
    "if __name__ == '__main__':\n",
    "    class TopTest(AttrDisplay):\n",
    "        count = 0\n",
    "        def __init__(self):\n",
    "            self.attr1 = TopTest.count\n",
    "            self.attr2 = TopTest.count + 1\n",
    "            TopTest.count += 2\n",
    "    class SubTest(TopTest):\n",
    "        pass\n",
    "    X, Y = TopTest(), SubTest()\n",
    "    Z = TopTest()\n",
    "    print(X)\n",
    "    print(Y)\n",
    "    print(Z)\n",
    "    "
   ]
  },
  {
   "cell_type": "code",
   "execution_count": 31,
   "metadata": {},
   "outputs": [
    {
     "name": "stdout",
     "output_type": "stream",
     "text": [
      "[124, 15, 14, 12, 10, 0]\n"
     ]
    }
   ],
   "source": [
    "#冒泡排序法\n",
    "array = [12, 14, 15, 124, 0, 10]\n",
    "\n",
    "for i in range(0,len(array)-1):\n",
    "    for j in range(0,len(array)-1):        \n",
    "        tmp = 0\n",
    "        if array[j] < array[j + 1]:\n",
    "            tmp = array[j]\n",
    "            array[j] = array[j + 1]\n",
    "            array[j + 1] = tmp\n",
    "print(array)\n",
    "\n",
    "\n",
    "    "
   ]
  },
  {
   "cell_type": "code",
   "execution_count": 11,
   "metadata": {},
   "outputs": [
    {
     "name": "stdout",
     "output_type": "stream",
     "text": [
      "[0, 10, 12, 14, 15, 60, 98, 100, 100, 100, 124, 700, 7000]\n"
     ]
    }
   ],
   "source": [
    "#快速排序\n",
    "import random\n",
    "\n",
    "\n",
    "array = [12, 14, 15, 124, 0, 10, 100, 100, 100, 700, 60, 98, 7000]\n",
    "\n",
    "def quick_sort(array):\n",
    "    \n",
    "    if len(array) < 2:\n",
    "        return array\n",
    "    \n",
    "    elif len(array) > 1:\n",
    "        a = random.randint(0,len(array)-1) #随机取得中间值\n",
    "        mid = array[a]\n",
    "        array_less = [x for x in array[: a] + array[a + 1 :] if x <= mid] #取得左侧列表\n",
    "        array_more = [x for x in array if x > mid]#取得右侧列表\n",
    "        return quick_sort(array_less) + [mid] + quick_sort(array_more)\n",
    "\n",
    "\n",
    "print(quick_sort(array))\n"
   ]
  },
  {
   "cell_type": "code",
   "execution_count": 23,
   "metadata": {
    "scrolled": true
   },
   "outputs": [
    {
     "name": "stdout",
     "output_type": "stream",
     "text": [
      "请输入数据10 23 31 123 10 \n",
      "[10, 23, 31, 123]\n"
     ]
    }
   ],
   "source": [
    "#去重 排序在python中简单实现\n",
    "array = set()\n",
    "#实现类似C、C++等的空格分隔多个输入变量\n",
    "my_input = input('请输入数据').split(' ') \n",
    "\n",
    "for n in my_input:\n",
    "    if n:\n",
    "        array.add(int(n))\n",
    "\n",
    "array = list(array) #将集合转化为列表方便排序\n",
    "\n",
    "print(sorted(array))#利用内置函数sorted 直接得到结果"
   ]
  },
  {
   "cell_type": "code",
   "execution_count": 100,
   "metadata": {},
   "outputs": [
    {
     "name": "stdout",
     "output_type": "stream",
     "text": [
      "[6, 1, 5, 9, 4, 7, 2, 8, 3]\n"
     ]
    }
   ],
   "source": [
    "#解密给定一串数字 第一个数字删除 第二个数字放到结尾再删除第一个把第二个放到结尾重复前面步骤直到全部删除求删除的数字\n",
    "class MyList(list):\n",
    "    def head(self):\n",
    "        if len(self) >= 2:\n",
    "            array = self.pop(0)\n",
    "            self.append(self.pop(0))\n",
    "            return [array] + self.head()\n",
    "        elif len(self) <= 1:\n",
    "            return [self[0]]\n",
    "            \n",
    "\n",
    "my_list = MyList([6, 3, 1, 7, 5, 8, 9, 2, 4])\n",
    "print(my_list.head())\n"
   ]
  },
  {
   "cell_type": "code",
   "execution_count": 148,
   "metadata": {},
   "outputs": [
    {
     "name": "stdout",
     "output_type": "stream",
     "text": [
      "请输入字符串acbccc\n",
      "不是回文\n"
     ]
    }
   ],
   "source": [
    "#检测是否是回文\n",
    "from collections import deque\n",
    "my_queue = deque()\n",
    "my_list = []\n",
    "my_list.extend(input('请输入字符串'))\n",
    "is_huiwen = True\n",
    "    \n",
    "for i in range(0,int(len(my_list)/2)): #除法之后必定是float类型\n",
    "    my_queue.append(my_list[i])\n",
    "        \n",
    "for n in my_list:\n",
    "    if my_queue:\n",
    "        if my_queue.popleft() != my_list.pop():\n",
    "            is_huiwen = False\n",
    "            break\n",
    "\n",
    "if is_huiwen:\n",
    "    print('是回文')\n",
    "else:\n",
    "    print('不是回文')    \n",
    "\n",
    "    "
   ]
  },
  {
   "cell_type": "code",
   "execution_count": null,
   "metadata": {},
   "outputs": [],
   "source": []
  },
  {
   "cell_type": "code",
   "execution_count": null,
   "metadata": {},
   "outputs": [],
   "source": []
  }
 ],
 "metadata": {
  "kernelspec": {
   "display_name": "Python 3",
   "language": "python",
   "name": "python3"
  },
  "language_info": {
   "codemirror_mode": {
    "name": "ipython",
    "version": 3
   },
   "file_extension": ".py",
   "mimetype": "text/x-python",
   "name": "python",
   "nbconvert_exporter": "python",
   "pygments_lexer": "ipython3",
   "version": "3.6.2"
  }
 },
 "nbformat": 4,
 "nbformat_minor": 2
}
