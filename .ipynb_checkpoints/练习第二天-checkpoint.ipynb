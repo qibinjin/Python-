{
 "cells": [
  {
   "cell_type": "code",
   "execution_count": 17,
   "metadata": {},
   "outputs": [
    {
     "name": "stdout",
     "output_type": "stream",
     "text": [
      "办公室1的人数为:3\n",
      "CFG\n",
      "\n",
      "--------------------\n",
      "办公室2的人数为:4\n",
      "BDEH\n",
      "\n",
      "--------------------\n",
      "办公室3的人数为:1\n",
      "A\n",
      "\n",
      "--------------------\n"
     ]
    }
   ],
   "source": [
    "#encoding=utf-8\n",
    "\n",
    "import random\n",
    "\n",
    "# 定义一个列表用来保存3个办公室\n",
    "offices = [[],[],[]]\n",
    "\n",
    "# 定义一个列表用来存储8位老师的名字\n",
    "names = ['A','B','C','D','E','F','G','H']\n",
    "\n",
    "# i = 0\n",
    "for name in names:\n",
    "    index = random.randint(0,2)    \n",
    "    offices[index].append(name)\n",
    "\n",
    "i = 1\n",
    "for tempNames in offices:\n",
    "    print('办公室%d的人数为:%d'%(i,len(tempNames)))\n",
    "    i+=1\n",
    "    for name in tempNames:\n",
    "        print(\"%s\"%name,end='')\n",
    "    print(\"\\n\")\n",
    "    print(\"-\"*20)"
   ]
  },
  {
   "cell_type": "code",
   "execution_count": 22,
   "metadata": {},
   "outputs": [
    {
     "data": {
      "text/plain": [
       "{1, 4, 5}"
      ]
     },
     "execution_count": 22,
     "metadata": {},
     "output_type": "execute_result"
    }
   ],
   "source": [
    "set1 = {1, 2, 4, 5}\n",
    "\n",
    "# 使用discard删除 如果元素存在 直接删除 如果元素不存在 不做任何操作\n",
    "set1.discard(2)\n",
    "set1"
   ]
  },
  {
   "cell_type": "code",
   "execution_count": 67,
   "metadata": {},
   "outputs": [
    {
     "name": "stdout",
     "output_type": "stream",
     "text": [
      "我的名字是：小明\n"
     ]
    }
   ],
   "source": [
    "myName = '小明'\n",
    "print('我的名字是：%s' % myName)"
   ]
  },
  {
   "cell_type": "code",
   "execution_count": 42,
   "metadata": {},
   "outputs": [
    {
     "name": "stdout",
     "output_type": "stream",
     "text": [
      "我的年龄是:15\n",
      "我的年龄是:15\n"
     ]
    }
   ],
   "source": [
    "MyAge = 15\n",
    "print('我的年龄是:%d' % MyAge)\n",
    "print('我的年龄是:{}'.format(MyAge))"
   ]
  },
  {
   "cell_type": "code",
   "execution_count": 41,
   "metadata": {},
   "outputs": [
    {
     "name": "stdout",
     "output_type": "stream",
     "text": [
      "我的身高是:175.45\n",
      "我的身高是:175.45\n"
     ]
    }
   ],
   "source": [
    "my_height = 175.45\n",
    "print('我的身高是:%.2f' % my_height)\n",
    "print('我的身高是:{}'.format(my_height))"
   ]
  },
  {
   "cell_type": "code",
   "execution_count": 36,
   "metadata": {},
   "outputs": [
    {
     "name": "stdout",
     "output_type": "stream",
     "text": [
      "是否为男人:True\n",
      "是否为男人:True\n"
     ]
    }
   ],
   "source": [
    "is_man = True\n",
    "print('是否为男人:%s' % is_man)\n",
    "print('是否为男人:{}'.format(is_man))"
   ]
  },
  {
   "cell_type": "code",
   "execution_count": 85,
   "metadata": {},
   "outputs": [
    {
     "data": {
      "text/plain": [
       "[<matplotlib.lines.Line2D at 0x106364a8>,\n",
       " <matplotlib.lines.Line2D at 0x106365f8>]"
      ]
     },
     "execution_count": 85,
     "metadata": {},
     "output_type": "execute_result"
    },
    {
     "data": {
      "image/png": "[encoded data removed]",
      "text/plain": [
       "<Figure size 432x288 with 1 Axes>"
      ]
     },
     "metadata": {},
     "output_type": "display_data"
    }
   ],
   "source": [
    "import matplotlib.pyplot as plt\n",
    "import numpy as np\n",
    "%matplotlib inline\n",
    "\n",
    "\n",
    "plt.plot(10,-10,[2,3,4,5,1])"
   ]
  },
  {
   "cell_type": "code",
   "execution_count": 93,
   "metadata": {},
   "outputs": [
    {
     "name": "stdout",
     "output_type": "stream",
     "text": [
      "== == == == == 我的名片 == == == == ==\n",
      "姓名：小明\n",
      "QQ:1235544\n",
      "手机号：112313123123132\n",
      "公司地址:北京市顺义区\n",
      "== == == == == == == == == == == == == \n"
     ]
    }
   ],
   "source": [
    "name = '小明'\n",
    "qq = 1235544\n",
    "tel = 112313123123132\n",
    "addr = '北京市顺义区'\n",
    "print('== '* 5 + '我的名片' + \" ==\" * 5)\n",
    "print('姓名：%s\\nQQ:%d\\n手机号：%d\\n公司地址:%s' % (name, qq, tel, addr))\n",
    "print('== ' * 13 )"
   ]
  },
  {
   "cell_type": "code",
   "execution_count": 103,
   "metadata": {},
   "outputs": [
    {
     "name": "stdout",
     "output_type": "stream",
     "text": [
      "你的名字是xiaoming\n",
      "你的名字是xiaoming\n"
     ]
    }
   ],
   "source": [
    "name = input('你的名字是')\n",
    "print('你的名字是%s' % name)"
   ]
  },
  {
   "cell_type": "code",
   "execution_count": 107,
   "metadata": {},
   "outputs": [
    {
     "name": "stdout",
     "output_type": "stream",
     "text": [
      "25\n",
      "10\n",
      "150\n",
      "10.0\n",
      "1000000000000000.0\n",
      "66666666666666.0\n",
      "6.0\n"
     ]
    }
   ],
   "source": [
    "a = 10 \n",
    "b = 15\n",
    "a += b\n",
    "print(a)\n",
    "a -= b\n",
    "print(a)\n",
    "a *= b\n",
    "print(a)\n",
    "a /= b\n",
    "print(a)\n",
    "a **= b\n",
    "print(a)\n",
    "a //= b\n",
    "print(a)\n",
    "a %= b\n",
    "print(a)"
   ]
  },
  {
   "cell_type": "code",
   "execution_count": 111,
   "metadata": {},
   "outputs": [
    {
     "name": "stdout",
     "output_type": "stream",
     "text": [
      "21\n"
     ]
    }
   ],
   "source": [
    "a = 10 \n",
    "b =11\n",
    "c= 'a + b'\n",
    "c = eval(c)\n",
    "print(c)"
   ]
  },
  {
   "cell_type": "code",
   "execution_count": 112,
   "metadata": {},
   "outputs": [
    {
     "name": "stdout",
     "output_type": "stream",
     "text": [
      "请输入你的年龄：19\n",
      "你可以上网\n",
      "你可以取钱\n",
      "你可以乘车\n"
     ]
    }
   ],
   "source": [
    "a = int(input('请输入你的年龄：'))\n",
    "if a >= 18:\n",
    "    print('你可以上网')\n",
    "b = 'asdasd'\n",
    "if b == 'asdasd':\n",
    "    print('你可以取钱')\n",
    "c = True\n",
    "if c == True:\n",
    "    print('你可以乘车')"
   ]
  },
  {
   "cell_type": "code",
   "execution_count": 114,
   "metadata": {},
   "outputs": [
    {
     "name": "stdout",
     "output_type": "stream",
     "text": [
      "a等于b\n",
      "a不等于b\n",
      "a大于等于b\n",
      "a小于等于b\n"
     ]
    }
   ],
   "source": [
    "a = 50\n",
    "b = 50\n",
    "if a == b:\n",
    "    print('a等于b')\n",
    "a = 10\n",
    "if a != b:\n",
    "    print('a不等于b')\n",
    "a = 50\n",
    "if a >= b:\n",
    "    print('a大于等于b')\n",
    "if a <= b:\n",
    "    print('a小于等于b')"
   ]
  },
  {
   "cell_type": "code",
   "execution_count": 116,
   "metadata": {},
   "outputs": [
    {
     "name": "stdout",
     "output_type": "stream",
     "text": [
      "foo 3 4\n",
      "bar 4\n",
      "foo 5 6\n"
     ]
    }
   ],
   "source": [
    "records = [('foo', 3, 4), ('bar', 4), ('foo', 5, 6)]\n",
    "def do_foo(x, y):\n",
    "    print('foo', x, y)\n",
    "def do_bar(x):\n",
    "    print('bar', x)\n",
    "for n,*args in records:\n",
    "    if n == 'foo':\n",
    "        do_foo(*args)\n",
    "    if n == 'bar':\n",
    "        do_bar(*args)"
   ]
  },
  {
   "cell_type": "code",
   "execution_count": 144,
   "metadata": {},
   "outputs": [
    {
     "name": "stdout",
     "output_type": "stream",
     "text": [
      "[4, 5, 6, 10, 4, 17]\n",
      "[5, 6, 10, 4, 17]\n",
      "[6, 10, 4, 17]\n",
      "[10, 4, 17]\n",
      "[4, 17]\n",
      "[17]\n",
      "[]\n",
      "47\n"
     ]
    }
   ],
   "source": [
    "item = [1, 4, 5, 6, 10, 4, 17]\n",
    "def sum(item):\n",
    "    head, *tail = item\n",
    "    print(tail)\n",
    "    return head + sum(tail) if tail else head\n",
    "print(sum(item))"
   ]
  },
  {
   "cell_type": "code",
   "execution_count": 204,
   "metadata": {},
   "outputs": [
    {
     "name": "stdout",
     "output_type": "stream",
     "text": [
      "asdadsdaasdadasdaadasda python\n",
      "********************\n",
      "asdadsdaasdadasdaadasda python\n",
      "pythonad asdwadsasdwasd\n",
      "********************\n",
      "asdadsdaasdadasdaadasda python\n",
      "pythonad asdwadsasdwasd\n",
      "adwjnjdnjanjnjnjasjdn python\n",
      "********************\n",
      "asdadsdaasdadasdaadasda python\n",
      "pythonad asdwadsasdwasd\n",
      "adwjnjdnjanjnjnjasjdn python\n",
      "asdaddwkjljasdwpythonadjlwkjlads\n",
      "********************\n",
      "asdadsdaasdadasdaadasda python\n",
      "pythonad asdwadsasdwasd\n",
      "adwjnjdnjanjnjnjasjdn python\n",
      "asdaddwkjljasdwpythonadjlwkjlads\n",
      "pythonaksdjwkjalsldnwljewq\n",
      "********************\n",
      "asdadsdaasdadasdaadasda python\n",
      "pythonad asdwadsasdwasd\n",
      "adwjnjdnjanjnjnjasjdn python\n",
      "asdaddwkjljasdwpythonadjlwkjlads\n",
      "pythonaksdjwkjalsldnwljewq\n",
      "fcxfcfxgfcxfgxgxgxpython\n",
      "********************\n",
      "pythonad asdwadsasdwasd\n",
      "adwjnjdnjanjnjnjasjdn python\n",
      "asdaddwkjljasdwpythonadjlwkjlads\n",
      "pythonaksdjwkjalsldnwljewq\n",
      "fcxfcfxgfcxfgxgxgxpython\n",
      "yyfhpythonfxtxtxct4355\n",
      "********************\n"
     ]
    }
   ],
   "source": [
    "from collections import deque\n",
    "def search(lines, pattern, history = 5):\n",
    "    previous_line = deque(maxlen = history)\n",
    "    for line in lines:\n",
    "        if pattern in line:\n",
    "            yield line, previous_line\n",
    "        previous_line.append(line)\n",
    "with open('C:/Users/Administrator/Desktop/sample.txt') as f:\n",
    "    for line, prevlines in search(f, 'python', 5):\n",
    "        for pline in prevlines:\n",
    "            print(pline, end = '')\n",
    "            \n",
    "        print(line, end = '')\n",
    "        print('*' * 20)\n",
    "    "
   ]
  },
  {
   "cell_type": "code",
   "execution_count": 248,
   "metadata": {},
   "outputs": [
    {
     "data": {
      "text/plain": [
       "({'name': 'AAPL', 'shares': 50, 'price': 543.22},\n",
       " {'name': 'ACME', 'shares': 75, 'price': 115.65},\n",
       " {'name': 'IBM', 'shares': 100, 'price': 91.1})"
      ]
     },
     "execution_count": 248,
     "metadata": {},
     "output_type": "execute_result"
    }
   ],
   "source": [
    "import heapq\n",
    "portfolio = [\n",
    "{'name': 'IBM', 'shares': 100, 'price': 91.1},\n",
    "{'name': 'AAPL', 'shares': 50, 'price': 543.22},\n",
    "{'name': 'FB', 'shares': 200, 'price': 21.09},\n",
    "{'name': 'HPQ', 'shares': 35, 'price': 31.75},\n",
    "{'name': 'YHOO', 'shares': 45, 'price': 16.35},\n",
    "{'name': 'ACME', 'shares': 75, 'price': 115.65}\n",
    "]\n",
    "\n",
    "cheap = heapq.nsmallest(6, portfolio, key = lambda s : s['price'])#等价于下方sorted 两部运算\n",
    "\n",
    "exp = heapq.nlargest(3, portfolio, key = lambda s : s['price'])\n",
    "\n",
    "ret1 = sorted(portfolio, key = lambda s : s['price'])\n",
    "ret2 = ret1[0], ret1[1], ret1[2]\n",
    "ret2\n"
   ]
  },
  {
   "cell_type": "code",
   "execution_count": 221,
   "metadata": {},
   "outputs": [
    {
     "data": {
      "text/plain": [
       "{'name': 'AAPL', 'shares': 50, 'price': 543.22}"
      ]
     },
     "execution_count": 221,
     "metadata": {},
     "output_type": "execute_result"
    }
   ],
   "source": [
    "max(portfolio, key = lambda s : s['price'])"
   ]
  },
  {
   "cell_type": "code",
   "execution_count": 280,
   "metadata": {},
   "outputs": [
    {
     "data": {
      "text/plain": [
       "Item('grok')"
      ]
     },
     "execution_count": 280,
     "metadata": {},
     "output_type": "execute_result"
    }
   ],
   "source": [
    "import heapq \n",
    "class PriorityQueue:\n",
    "    def __init__(self):\n",
    "        self._queue = []\n",
    "        self._index = 0\n",
    "    def push(self, item, priority):\n",
    "        heapq.heappush(self._queue, (-priority, self._index, item))\n",
    "        self._index += 1\n",
    "    def pop(self):\n",
    "        return heapq.heappop(self._queue)[-1]\n",
    "class Item:\n",
    "    def __init__(self, name):\n",
    "        self.name = name\n",
    "    def __repr__(self):\n",
    "        return 'Item({!r})'.format(self.name)\n",
    "q = PriorityQueue()\n",
    "q.push(Item('foo'), 1)\n",
    "q.push(Item('bar'), 5)\n",
    "q.push(Item('spam'), 4)\n",
    "q.push(Item('grok'), 1)\n",
    "q.pop()\n",
    "q.pop()\n",
    "q.pop()\n",
    "q.pop()"
   ]
  },
  {
   "cell_type": "code",
   "execution_count": 325,
   "metadata": {},
   "outputs": [
    {
     "name": "stdout",
     "output_type": "stream",
     "text": [
      "[0, 10] [123]\n",
      "a [0, 10]\n",
      "b [123]\n"
     ]
    }
   ],
   "source": [
    "from collections import defaultdict\n",
    "d = defaultdict(list)\n",
    "d['a'].append(0)\n",
    "d['a'].append(10)\n",
    "d['b'].append(123)\n",
    "print(d['a'], d['b'])\n",
    "for i, j in d.items():\n",
    "    print(i, j)"
   ]
  },
  {
   "cell_type": "code",
   "execution_count": 331,
   "metadata": {},
   "outputs": [
    {
     "name": "stdout",
     "output_type": "stream",
     "text": [
      "请输入数字1-70\n",
      "输入有误\n"
     ]
    }
   ],
   "source": [
    "a = int(input('请输入数字1-7'))\n",
    "if a == 1:\n",
    "    print('今天是周一')\n",
    "elif a == 2:\n",
    "    print('今天是周二')\n",
    "elif a == 3:\n",
    "    print('今天是周三')\n",
    "elif a == 4:\n",
    "    print('今天是周四')\n",
    "elif a == 5:\n",
    "    print('今天是周五')\n",
    "elif a == 6 or a == 7:\n",
    "    print('今天是周末')\n",
    "else :\n",
    "    print('输入有误')"
   ]
  },
  {
   "cell_type": "code",
   "execution_count": 367,
   "metadata": {},
   "outputs": [
    {
     "name": "stdout",
     "output_type": "stream",
     "text": [
      "0\n",
      "1\n",
      "2\n",
      "3\n",
      "5\n",
      "7\n",
      "11\n",
      "13\n",
      "17\n",
      "19\n",
      "23\n",
      "29\n",
      "31\n",
      "37\n",
      "41\n",
      "43\n",
      "47\n",
      "53\n",
      "59\n",
      "61\n",
      "67\n",
      "71\n",
      "73\n",
      "79\n",
      "83\n",
      "89\n",
      "97\n"
     ]
    }
   ],
   "source": [
    "for  i in range(0,101):\n",
    "    for j in range(2, i):\n",
    "        if i % j == 0:\n",
    "            break\n",
    "    else:\n",
    "        print(i)"
   ]
  },
  {
   "cell_type": "code",
   "execution_count": 466,
   "metadata": {},
   "outputs": [
    {
     "name": "stdout",
     "output_type": "stream",
     "text": [
      "输入第一个数字sadasd\n",
      "输入第二个数字sad\n",
      "输入第三个数字dsa\n",
      "您输入的数字有误\n"
     ]
    }
   ],
   "source": [
    "a, b, c = input('输入第一个数字'), input('输入第二个数字'), input('输入第三个数字')\n",
    "try:\n",
    "    sum = int(a) + int(b) + int(c)\n",
    "    if sum > 100000:\n",
    "        print('你输入的数字太大了')\n",
    "    elif sum > 10000:\n",
    "        print('你输入的数字挺大')\n",
    "    elif sum > 1000:\n",
    "        print('%d你输入的数字不算大' % sum)\n",
    "    elif sum <= 100:\n",
    "        print('你输入的数字太小')\n",
    "except(ValueError):\n",
    "    print('您输入的数字有误')"
   ]
  },
  {
   "cell_type": "code",
   "execution_count": 403,
   "metadata": {},
   "outputs": [
    {
     "name": "stdout",
     "output_type": "stream",
     "text": [
      "请输入第一个数字123\n",
      "请输入运算符号*\n",
      "请输入第二个数字123\n",
      "123*123=15129\n"
     ]
    }
   ],
   "source": [
    "a = input('请输入第一个数字')\n",
    "b = input('请输入运算符号')\n",
    "c = input('请输入第二个数字')\n",
    "try:\n",
    "    if type(eval(a)) == str or (b not in ['+', '-', '*', '/', '//', '%', '**']):\n",
    "        print('输入的数字或符号有误')\n",
    "    else:\n",
    "        sum = a + b + c\n",
    "\n",
    "        ret = eval(sum)\n",
    "        print(sum +'=%d' % ret)\n",
    "except(NameError):\n",
    "    print('输入的数字或符号有误')"
   ]
  },
  {
   "cell_type": "code",
   "execution_count": 416,
   "metadata": {},
   "outputs": [
    {
     "name": "stdout",
     "output_type": "stream",
     "text": [
      "请输入你的身高1.75\n",
      "请输入你的体重85\n",
      "27.8\n",
      "体重过重\n"
     ]
    }
   ],
   "source": [
    "height = input('请输入你的身高')\n",
    "weight = input('请输入你的体重')\n",
    "\n",
    "\n",
    "try:\n",
    "    bmi = float(weight) / (float(height) ** 2)\n",
    "\n",
    "    print('{:.1f}'.format(bmi))\n",
    "    if bmi < 18.5:\n",
    "        print('体重过轻')\n",
    "    elif bmi <25:\n",
    "        print('体重正常')\n",
    "    elif bmi < 28:\n",
    "        print('体重过重')\n",
    "    elif bmi < 32:\n",
    "        print('肥胖')\n",
    "    else:\n",
    "        print('严重肥胖')\n",
    "except(ValueError):\n",
    "    print('您输入的数据有误')\n"
   ]
  },
  {
   "cell_type": "code",
   "execution_count": 419,
   "metadata": {},
   "outputs": [
    {
     "name": "stdout",
     "output_type": "stream",
     "text": [
      "请输入姓名sjds\n",
      "请输入性别male\n",
      "请输入年龄18\n",
      "请输入单位samsung\n",
      "请输入联系方式213123\n",
      "--------------------\n",
      "姓名:sjds\n",
      "性别:male\n",
      "年龄:18\n",
      "单位:samsung\n",
      "联系方式:213123\n",
      "--------------------\n"
     ]
    }
   ],
   "source": [
    "name = input('请输入姓名')\n",
    "sex = input('请输入性别')\n",
    "age = input('请输入年龄')\n",
    "company = input('请输入单位')\n",
    "tel = input('请输入联系方式')\n",
    "print('-' * 20)\n",
    "print('姓名:%s\\n性别:%s\\n年龄:%s\\n单位:%s\\n联系方式:%s' % (name, sex, age, company, tel))\n",
    "print('-' * 20)"
   ]
  },
  {
   "cell_type": "code",
   "execution_count": 428,
   "metadata": {},
   "outputs": [
    {
     "name": "stdout",
     "output_type": "stream",
     "text": [
      "请输入年份：asd\n",
      "您输入的年份有误\n"
     ]
    }
   ],
   "source": [
    "try:\n",
    "    year = int(input('请输入年份：'))\n",
    "\n",
    "    if year % 400 == 0 or (year % 4 == 0 and year % 100 != 0):\n",
    "        print('%d年是闰年' % year)\n",
    "    else:\n",
    "        print('%d不是闰年' % year)\n",
    "except(ValueError):\n",
    "    print('您输入的年份有误')"
   ]
  },
  {
   "cell_type": "code",
   "execution_count": 439,
   "metadata": {},
   "outputs": [
    {
     "name": "stdout",
     "output_type": "stream",
     "text": [
      "foo 1\n",
      "bar 2\n",
      "spam 3\n",
      "grok 4\n"
     ]
    },
    {
     "data": {
      "text/plain": [
       "'{\"foo\": 1, \"bar\": 2, \"spam\": 3, \"grok\": 4}'"
      ]
     },
     "execution_count": 439,
     "metadata": {},
     "output_type": "execute_result"
    }
   ],
   "source": [
    "from collections import OrderedDict\n",
    "def odered_dict():\n",
    "    d = OrderedDict()\n",
    "    d['foo'] = 1\n",
    "    d['bar'] = 2\n",
    "    d['spam'] = 3\n",
    "    d['grok'] = 4\n",
    "    \n",
    "    for key in d:\n",
    "        print(key, d[key])\n",
    "    import json\n",
    "    json.dumps(d)\n",
    "    return json.dumps(d)\n",
    "odered_dict()\n"
   ]
  },
  {
   "cell_type": "code",
   "execution_count": 457,
   "metadata": {},
   "outputs": [
    {
     "name": "stdout",
     "output_type": "stream",
     "text": [
      "FB 10.75\n"
     ]
    }
   ],
   "source": [
    "prices = {\n",
    "'ACME': 45.23,\n",
    "'AAPL': 612.78,\n",
    "'IBM': 205.55,\n",
    "'HPQ': 37.20,\n",
    "'FB': 10.75\n",
    "}\n",
    "min_price = min(zip(prices.values(), prices.keys()))\n",
    "key = min(prices, key = lambda s : prices[s])\n"
   ]
  },
  {
   "cell_type": "code",
   "execution_count": 465,
   "metadata": {},
   "outputs": [
    {
     "name": "stdout",
     "output_type": "stream",
     "text": [
      "{'x', 'y'}\n",
      "{'z'}\n",
      "{('y', 2)}\n",
      "{'x': 1, 'y': 2}\n"
     ]
    }
   ],
   "source": [
    "a = {\n",
    "'x' : 1,\n",
    "'y' : 2,\n",
    "'z' : 3\n",
    "}\n",
    "b = {\n",
    "'w' : 10,\n",
    "'x' : 11,\n",
    "'y' : 2\n",
    "}\n",
    "print(a.keys() & b.keys())\n",
    "print(a.keys() - b.keys())\n",
    "print(a.items() & b.items())\n",
    "c = {key:a[key] for key in a.keys() - {'z', 'w'}}\n",
    "print(c)"
   ]
  },
  {
   "cell_type": "code",
   "execution_count": 471,
   "metadata": {},
   "outputs": [
    {
     "data": {
      "text/plain": [
       "[{'x': 1, 'y': 2}, {'x': 1, 'y': 3}, {'x': 2, 'y': 4}]"
      ]
     },
     "execution_count": 471,
     "metadata": {},
     "output_type": "execute_result"
    }
   ],
   "source": [
    "def dedupe(items, key = None):\n",
    "    seen = set()\n",
    "    for item in items:\n",
    "        val = item if key is None else key(item)\n",
    "        if val not in seen:\n",
    "            yield item\n",
    "            seen.add(val)\n",
    "a = [{'x' : 1, 'y' : 2}, {'x' : 1, 'y' : 3}, {'x' : 1, 'y' : 2}, {'x' : 2, 'y' : 4}]\n",
    "list(dedupe(a, key = lambda d : (d['x'], d['y'])))"
   ]
  },
  {
   "cell_type": "code",
   "execution_count": 475,
   "metadata": {},
   "outputs": [
    {
     "name": "stdout",
     "output_type": "stream",
     "text": [
      "(2, 4, 1)\n",
      "l\n",
      "l\n"
     ]
    }
   ],
   "source": [
    "items = [0, 1, 2, 3, 4, 5, 6]\n",
    "a = slice(2, 4)\n",
    "s = 'HelloWorld'\n",
    "print(a.indices(len(s)))\n",
    "\n",
    "for i in range(*a.indices(len(s))):\n",
    "    print(s[i])"
   ]
  },
  {
   "cell_type": "code",
   "execution_count": 481,
   "metadata": {},
   "outputs": [
    {
     "name": "stdout",
     "output_type": "stream",
     "text": [
      "Counter({'eyes': 8, 'the': 5, 'look': 4, 'into': 3, 'my': 3, 'around': 2, 'not': 1, \"don't\": 1, \"you're\": 1, 'under': 1})\n",
      "[('eyes', 8), ('the', 5), ('look', 4)]\n"
     ]
    }
   ],
   "source": [
    "from collections import Counter\n",
    "words = [\n",
    "'look', 'into', 'my', 'eyes', 'look', 'into', 'my', 'eyes',\n",
    "'the', 'eyes', 'the', 'eyes', 'the', 'eyes', 'not', 'around', 'the',\n",
    "'eyes', \"don't\", 'look', 'around', 'the', 'eyes', 'look', 'into',\n",
    "'my', 'eyes', \"you're\", 'under'\n",
    "]\n",
    "word_counter = Counter(words)\n",
    "print(word_counter)\n",
    "top_three = word_counter.most_common(3)\n",
    "print(top_three)"
   ]
  },
  {
   "cell_type": "code",
   "execution_count": 488,
   "metadata": {},
   "outputs": [
    {
     "name": "stdout",
     "output_type": "stream",
     "text": [
      "[{'fname': 'Big', 'lname': 'Jones', 'uid': 1004}, {'fname': 'Brian', 'lname': 'Jones', 'uid': 1003}, {'fname': 'David', 'lname': 'Beazley', 'uid': 1002}, {'fname': 'John', 'lname': 'Cleese', 'uid': 1001}]\n",
      "[{'fname': 'John', 'lname': 'Cleese', 'uid': 1001}, {'fname': 'David', 'lname': 'Beazley', 'uid': 1002}, {'fname': 'Brian', 'lname': 'Jones', 'uid': 1003}, {'fname': 'Big', 'lname': 'Jones', 'uid': 1004}]\n",
      "[{'fname': 'Big', 'lname': 'Jones', 'uid': 1004}, {'fname': 'Brian', 'lname': 'Jones', 'uid': 1003}, {'fname': 'David', 'lname': 'Beazley', 'uid': 1002}, {'fname': 'John', 'lname': 'Cleese', 'uid': 1001}]\n"
     ]
    }
   ],
   "source": [
    "rows = [\n",
    "{'fname': 'Brian', 'lname': 'Jones', 'uid': 1003},\n",
    "{'fname': 'David', 'lname': 'Beazley', 'uid': 1002},\n",
    "{'fname': 'John', 'lname': 'Cleese', 'uid': 1001},\n",
    "{'fname': 'Big', 'lname': 'Jones', 'uid': 1004}\n",
    "]\n",
    "from operator import itemgetter\n",
    "rows_by_fname = sorted(rows, key = itemgetter('fname'))\n",
    "rows_by_uid = sorted(rows, key = itemgetter('uid'))\n",
    "print(rows_by_fname)\n",
    "print(rows_by_uid)\n",
    "rows_by_lfname = sorted(rows, key = itemgetter('fname', 'lname'))\n",
    "print(rows_by_lfname)"
   ]
  },
  {
   "cell_type": "code",
   "execution_count": 494,
   "metadata": {},
   "outputs": [
    {
     "name": "stdout",
     "output_type": "stream",
     "text": [
      "[User23, User3, User99]\n",
      "[User3, User23, User99]\n",
      "[User3, User23, User99]\n"
     ]
    }
   ],
   "source": [
    "class User:\n",
    "    def __init__(self, user_id):\n",
    "        self.user_id = user_id\n",
    "    def __repr__(self):\n",
    "        return 'User{}'.format(self.user_id)\n",
    "def sort_notcompare():\n",
    "    users = [User(23), User(3), User(99)]\n",
    "    print(users)\n",
    "    print(sorted(users, key = lambda x : x.user_id))\n",
    "    from operator import attrgetter\n",
    "    print(sorted(users, key = attrgetter('user_id')))\n",
    "sort_notcompare()\n"
   ]
  },
  {
   "cell_type": "code",
   "execution_count": 498,
   "metadata": {},
   "outputs": [
    {
     "name": "stdout",
     "output_type": "stream",
     "text": [
      "07/01/2012\n",
      "  {'address': '5412 N CLARK', 'date': '07/01/2012'}\n",
      "  {'address': '4801 N BROADWAY', 'date': '07/01/2012'}\n",
      "07/02/2012\n",
      "  {'address': '5800 E 58TH', 'date': '07/02/2012'}\n",
      "  {'address': '5645 N RAVENSWOOD', 'date': '07/02/2012'}\n",
      "  {'address': '1060 W ADDISON', 'date': '07/02/2012'}\n",
      "07/03/2012\n",
      "  {'address': '2122 N CLARK', 'date': '07/03/2012'}\n",
      "07/04/2012\n",
      "  {'address': '5148 N CLARK', 'date': '07/04/2012'}\n",
      "  {'address': '1039 W GRANVILLE', 'date': '07/04/2012'}\n",
      "07/01/2012\n",
      "07/04/2012\n",
      "07/02/2012\n",
      "07/03/2012\n",
      "07/02/2012\n",
      "07/02/2012\n",
      "07/01/2012\n",
      "07/04/2012\n"
     ]
    },
    {
     "data": {
      "text/plain": [
       "defaultdict(list,\n",
       "            {'07/01/2012': [{'address': '5412 N CLARK', 'date': '07/01/2012'},\n",
       "              {'address': '4801 N BROADWAY', 'date': '07/01/2012'}],\n",
       "             '07/04/2012': [{'address': '5148 N CLARK', 'date': '07/04/2012'},\n",
       "              {'address': '1039 W GRANVILLE', 'date': '07/04/2012'}],\n",
       "             '07/02/2012': [{'address': '5800 E 58TH', 'date': '07/02/2012'},\n",
       "              {'address': '5645 N RAVENSWOOD', 'date': '07/02/2012'},\n",
       "              {'address': '1060 W ADDISON', 'date': '07/02/2012'}],\n",
       "             '07/03/2012': [{'address': '2122 N CLARK',\n",
       "               'date': '07/03/2012'}]})"
      ]
     },
     "execution_count": 498,
     "metadata": {},
     "output_type": "execute_result"
    }
   ],
   "source": [
    "rows = [\n",
    "{'address': '5412 N CLARK', 'date': '07/01/2012'},\n",
    "{'address': '5148 N CLARK', 'date': '07/04/2012'},\n",
    "{'address': '5800 E 58TH', 'date': '07/02/2012'},\n",
    "{'address': '2122 N CLARK', 'date': '07/03/2012'},\n",
    "{'address': '5645 N RAVENSWOOD', 'date': '07/02/2012'},\n",
    "{'address': '1060 W ADDISON', 'date': '07/02/2012'},\n",
    "{'address': '4801 N BROADWAY', 'date': '07/01/2012'},\n",
    "{'address': '1039 W GRANVILLE', 'date': '07/04/2012'},\n",
    "]\n",
    "from operator import itemgetter\n",
    "from itertools import groupby\n",
    "row1 = sorted(rows, key = itemgetter('date'))\n",
    "for date, items in groupby(row1, key = itemgetter('date')):\n",
    "    print(date)\n",
    "    for i in items:\n",
    "        print(' ', i )\n",
    "rows_by_date = defaultdict(list)\n",
    "for row in rows:\n",
    "    rows_by_date[row['date']].append(row)\n",
    "rows_by_date"
   ]
  },
  {
   "cell_type": "code",
   "execution_count": null,
   "metadata": {},
   "outputs": [],
   "source": []
  }
 ],
 "metadata": {
  "kernelspec": {
   "display_name": "Python 3",
   "language": "python",
   "name": "python3"
  },
  "language_info": {
   "codemirror_mode": {
    "name": "ipython",
    "version": 3
   },
   "file_extension": ".py",
   "mimetype": "text/x-python",
   "name": "python",
   "nbconvert_exporter": "python",
   "pygments_lexer": "ipython3",
   "version": "3.6.2"
  }
 },
 "nbformat": 4,
 "nbformat_minor": 2
}
