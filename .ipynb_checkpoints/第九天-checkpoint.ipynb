{
 "cells": [
  {
   "cell_type": "code",
   "execution_count": 2,
   "metadata": {},
   "outputs": [
    {
     "name": "stdout",
     "output_type": "stream",
     "text": [
      "开始 10\n",
      "20\n"
     ]
    }
   ],
   "source": [
    "def func(b):\n",
    "    print('开始', b)\n",
    "    b += b\n",
    "    print(b)\n",
    "func(10)"
   ]
  },
  {
   "cell_type": "code",
   "execution_count": 9,
   "metadata": {},
   "outputs": [
    {
     "name": "stdout",
     "output_type": "stream",
     "text": [
      "11\n",
      "31\n",
      "[{'name': 'name', 'age': 10}, {'name': 'xiaoming', 'age': 13}, {'name': 'xiaohong', 'age': 19}]\n"
     ]
    }
   ],
   "source": [
    "f = lambda x : x + 1\n",
    "print(f(10))\n",
    "def add2num(a, b, c):\n",
    "    print(a + c(b))\n",
    "add2num(10, 20, f)\n",
    "\n",
    "my_list = [{'name':'name', 'age':10},{'name':'xiaoming', 'age':13}, {'name':'xiaohong', 'age':19}]\n",
    "my_list.sort(key = lambda dict:dict['age'])\n",
    "print(my_list)"
   ]
  },
  {
   "cell_type": "code",
   "execution_count": 43,
   "metadata": {},
   "outputs": [],
   "source": [
    "f = open('hm.txt','w')\n",
    "f.write(r'helloworld\\n')\n",
    "f.close()"
   ]
  },
  {
   "cell_type": "code",
   "execution_count": 44,
   "metadata": {},
   "outputs": [
    {
     "name": "stdout",
     "output_type": "stream",
     "text": [
      "helloworld\\n\n"
     ]
    }
   ],
   "source": [
    "f = open('hm.txt', 'r')\n",
    "a = f.readline()\n",
    "f.close()\n",
    "b = r'%s' % a\n",
    "print(b)"
   ]
  },
  {
   "cell_type": "code",
   "execution_count": 50,
   "metadata": {},
   "outputs": [
    {
     "name": "stdout",
     "output_type": "stream",
     "text": [
      "file has been copied\n"
     ]
    }
   ],
   "source": [
    "#复制文件\n",
    "def my_copy(old, new,size):\n",
    "    try:\n",
    "        old_f = open(old, 'r',encoding='utf-8')\n",
    "    except(FileNotFoundError):\n",
    "        return 'file not exist'\n",
    "    new_f = open(new, 'w',encoding='utf-8')\n",
    "    \n",
    "    while True:\n",
    "        ret = old_f.read(size)\n",
    "        if ret:\n",
    "            new_f.write(ret)\n",
    "        else:\n",
    "            break\n",
    "    return 'file has been copied'\n",
    "\n",
    "print(my_copy('hm.txt', 'hm1.txt',3))\n"
   ]
  },
  {
   "cell_type": "code",
   "execution_count": 83,
   "metadata": {},
   "outputs": [
    {
     "name": "stdout",
     "output_type": "stream",
     "text": [
      "73303384\n",
      "73303384\n",
      "这是NEW方法\n",
      "<__main__.A object at 0x00000000050CF4A8>\n"
     ]
    }
   ],
   "source": [
    "class A(object):\n",
    "   \n",
    "    def __new__(cls,age):\n",
    "        print(id(cls))\n",
    "        print('这是NEW方法')\n",
    "        ret = object.__new__(cls)\n",
    "        print(ret)\n",
    "        return ret\n",
    "print(id(A))\n",
    "a = A(18)\n",
    "# a.age = 0"
   ]
  },
  {
   "cell_type": "code",
   "execution_count": 82,
   "metadata": {},
   "outputs": [
    {
     "name": "stdout",
     "output_type": "stream",
     "text": [
      "84951392\n",
      "84951392\n",
      "19\n"
     ]
    }
   ],
   "source": [
    "class Singleton(object):\n",
    "    __instance = None\n",
    "    def __new__(cls, age, name):\n",
    "        if not cls.__instance:\n",
    "            cls.__instance = object.__new__(cls)\n",
    "        return cls.__instance\n",
    "\n",
    "a = Singleton(18, \"dongGe\")\n",
    "b = Singleton(8, \"dongGe\")\n",
    "\n",
    "print(id(a))\n",
    "print(id(b))\n",
    "\n",
    "a.age = 19\n",
    "print(b.age)\n",
    "      \n"
   ]
  },
  {
   "cell_type": "code",
   "execution_count": 93,
   "metadata": {},
   "outputs": [
    {
     "name": "stdout",
     "output_type": "stream",
     "text": [
      "[1, 1, 2, 3, 4, 5, 6, 7, 9]\n"
     ]
    }
   ],
   "source": [
    "#冒泡排序\n",
    "my_list = [1, 5, 6, 3, 7, 9, 1, 4, 2]\n",
    "for j in range(len(my_list)):\n",
    "    for i in range(0,len(my_list)-1):\n",
    "        if my_list[i] > my_list[i + 1]:\n",
    "            my_list[i],my_list[i+1] = my_list[i+1],my_list[i]\n",
    "\n",
    "print(my_list)"
   ]
  },
  {
   "cell_type": "code",
   "execution_count": 94,
   "metadata": {},
   "outputs": [
    {
     "name": "stdout",
     "output_type": "stream",
     "text": [
      "[1, 1, 2, 3, 4, 5, 6, 7, 9]\n"
     ]
    }
   ],
   "source": [
    "#选择排序\n",
    "my_list = [1, 5, 6, 3, 7, 9, 1, 4, 2]\n",
    "for i in range(0,len(my_list)):\n",
    "    for j in range(i,len(my_list)):\n",
    "        if my_list[i] > my_list[j]:\n",
    "            my_list[i],my_list[j] = my_list[j], my_list[i]\n",
    "print(my_list)\n"
   ]
  },
  {
   "cell_type": "code",
   "execution_count": 104,
   "metadata": {},
   "outputs": [
    {
     "name": "stdout",
     "output_type": "stream",
     "text": [
      "[1, 1, 2, 3, 4, 5, 6, 7, 9]\n"
     ]
    }
   ],
   "source": [
    "#快速排序\n",
    "my_list = [1, 5, 6, 3, 7, 9, 1, 4, 2]\n",
    "def quick_sort(my_list):\n",
    "    \n",
    "    if len(my_list) < 2:\n",
    "        return my_list\n",
    "    else:\n",
    "        mid = my_list[0] #这里也可以使用随机取值 相应的下面列表推导式也要变更\n",
    "        quick_less = [x for x in my_list[1:] if x <= mid]\n",
    "        quick_more = [x for x in my_list[1:] if x > mid]\n",
    "        return quick_sort(quick_less) + [mid] + quick_sort(quick_more)\n",
    "my_list1 = quick_sort(my_list)\n",
    "print(my_list1)"
   ]
  },
  {
   "cell_type": "code",
   "execution_count": 140,
   "metadata": {},
   "outputs": [
    {
     "name": "stdout",
     "output_type": "stream",
     "text": [
      "[1, 1, 2, 3, 4, 5, 6, 7, 9]\n"
     ]
    }
   ],
   "source": [
    "#插入排序\n",
    "my_list = [1, 5, 6, 3, 7, 9, 1, 4, 2]\n",
    "for i in range(1, len(my_list)):\n",
    "    if my_list[i-1] > my_list[i]:\n",
    "        tmp = my_list[i]\n",
    "        index = i\n",
    "        while index > 0 and my_list[index-1] > tmp:\n",
    "            my_list[index] = my_list[index - 1]\n",
    "            index -= 1\n",
    "        my_list[index] = tmp\n",
    "        \n",
    "print(my_list)"
   ]
  },
  {
   "cell_type": "code",
   "execution_count": 144,
   "metadata": {},
   "outputs": [
    {
     "name": "stderr",
     "output_type": "stream",
     "text": [
      "c:\\python36\\lib\\site-packages\\ipykernel_launcher.py:9: DeprecationWarning: \n",
      ".ix is deprecated. Please use\n",
      ".loc for label based indexing or\n",
      ".iloc for positional indexing\n",
      "\n",
      "See the documentation here:\n",
      "http://pandas.pydata.org/pandas-docs/stable/indexing.html#ix-indexer-is-deprecated\n",
      "  if __name__ == '__main__':\n"
     ]
    },
    {
     "name": "stdout",
     "output_type": "stream",
     "text": [
      "Training...\n"
     ]
    },
    {
     "name": "stderr",
     "output_type": "stream",
     "text": [
      "c:\\python36\\lib\\site-packages\\keras\\models.py:981: UserWarning: The `nb_epoch` argument in `fit` has been renamed `epochs`.\n",
      "  warnings.warn('The `nb_epoch` argument in `fit` '\n"
     ]
    },
    {
     "name": "stdout",
     "output_type": "stream",
     "text": [
      "Train on 37800 samples, validate on 4200 samples\n",
      "Epoch 1/10\n",
      " - 8s - loss: 0.3750 - val_loss: 0.2107\n",
      "Epoch 2/10\n",
      " - 8s - loss: 0.2138 - val_loss: 0.1644\n",
      "Epoch 3/10\n",
      " - 8s - loss: 0.1893 - val_loss: 0.1645\n",
      "Epoch 4/10\n",
      " - 7s - loss: 0.1787 - val_loss: 0.1570\n",
      "Epoch 5/10\n",
      " - 7s - loss: 0.1796 - val_loss: 0.1826\n",
      "Epoch 6/10\n",
      " - 7s - loss: 0.1916 - val_loss: 0.2108\n",
      "Epoch 7/10\n",
      " - 7s - loss: 0.1958 - val_loss: 0.1779\n",
      "Epoch 8/10\n",
      " - 7s - loss: 0.1893 - val_loss: 0.1898\n",
      "Epoch 9/10\n",
      " - 7s - loss: 0.1939 - val_loss: 0.1712\n",
      "Epoch 10/10\n",
      " - 7s - loss: 0.1922 - val_loss: 0.1838\n",
      "Generating test predictions ...\n"
     ]
    }
   ],
   "source": [
    "from keras.models import Sequential\n",
    "from keras.utils import np_utils\n",
    "from keras.layers.core import Dense, Activation, Dropout\n",
    "\n",
    "import pandas as pd\n",
    "import numpy as np\n",
    "\n",
    "train = pd.read_csv('D:/Code/Python-/Digit recognizer by keras/Data/train.csv')\n",
    "labels = train.ix[:,0].values.astype('int32')\n",
    "X_train = (train.ix[:,1:].values).astype('float32')\n",
    "X_test = (pd.read_csv('D:/Code/Python-/Digit recognizer by keras/Data/test.csv').values).astype('float32')\n",
    "\n",
    "y_train = np_utils.to_categorical(labels)\n",
    "\n",
    "scale = np.max(X_train)\n",
    "X_train /= scale\n",
    "X_test /= scale\n",
    "\n",
    "mean = np.std(X_train)\n",
    "X_train -= mean\n",
    "X_test -=mean\n",
    "\n",
    "input_dim = X_train.shape[1]\n",
    "nb_classes = y_train.shape[1]\n",
    "\n",
    "model = Sequential()\n",
    "model.add(Dense(128, input_dim = input_dim))\n",
    "model.add(Activation('relu'))\n",
    "model.add(Dropout(0.15))\n",
    "model.add(Dense(128))\n",
    "model.add(Activation('relu'))\n",
    "model.add(Dropout(0.15))\n",
    "model.add(Dense(nb_classes))\n",
    "model.add(Activation('softmax'))\n",
    "\n",
    "model.compile(loss = 'categorical_crossentropy', optimizer = 'rmsprop')\n",
    "\n",
    "print('Training...')\n",
    "\n",
    "model.fit(X_train, y_train, nb_epoch = 10, batch_size = 16, validation_split = 0.1, verbose = 2)\n",
    "\n",
    "print('Generating test predictions ...')\n",
    "preds = model.predict_classes(X_test, verbose =0)\n",
    "\n",
    "def write_preds(preds, fname):\n",
    "    pd.DataFrame({\"ImageId\":list(range(1,len(preds)+1)),\"Label\" : preds}).to_csv(fname,index = False, header = True)\n",
    "write_preds(preds, 'keras_mlp.csv')"
   ]
  },
  {
   "cell_type": "code",
   "execution_count": null,
   "metadata": {},
   "outputs": [],
   "source": []
  },
  {
   "cell_type": "code",
   "execution_count": null,
   "metadata": {},
   "outputs": [],
   "source": []
  }
 ],
 "metadata": {
  "kernelspec": {
   "display_name": "Python 3",
   "language": "python",
   "name": "python3"
  },
  "language_info": {
   "codemirror_mode": {
    "name": "ipython",
    "version": 3
   },
   "file_extension": ".py",
   "mimetype": "text/x-python",
   "name": "python",
   "nbconvert_exporter": "python",
   "pygments_lexer": "ipython3",
   "version": "3.6.2"
  }
 },
 "nbformat": 4,
 "nbformat_minor": 2
}
