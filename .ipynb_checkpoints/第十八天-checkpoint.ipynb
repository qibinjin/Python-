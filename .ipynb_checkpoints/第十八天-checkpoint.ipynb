{
 "cells": [
  {
   "cell_type": "code",
   "execution_count": 54,
   "metadata": {},
   "outputs": [
    {
     "name": "stdout",
     "output_type": "stream",
     "text": [
      "请输入聊天内容asd\n",
      "qqq\n",
      "\n",
      "请输入聊天内容wwww\n",
      "nianid\n",
      "\n",
      "请输入聊天内容q\n"
     ]
    }
   ],
   "source": [
    "from socket import *\n",
    "\n",
    "\n",
    "BUFSIZE = 1024\n",
    "ADDR = ('192.168.164.23', 5555)\n",
    "\n",
    "\n",
    "def connect(send_data):\n",
    "    tcp_cli = socket(AF_INET, SOCK_STREAM)\n",
    "    tcp_cli.connect(ADDR)\n",
    "    data = tcp_cli.recv(BUFSIZE)\n",
    "    \n",
    "    if data:\n",
    "        try:\n",
    "            print( data.decode('utf-8'))\n",
    "        except UnicodeDecodeError:\n",
    "            print( data.decode('utf-8'))\n",
    "            \n",
    "#     send_data = input('>')        \n",
    "    tcp_cli.send((\"%s\\r\\n\" % send_data).encode('utf-8'))\n",
    "    # data = tcp_cli.recv(BUFSIZE)\n",
    "\n",
    "while True:\n",
    "    data_1 = input('请输入聊天内容')\n",
    "    if data_1:\n",
    "        if data_1 == 'q':\n",
    "            break\n",
    "        connect(data_1)\n",
    "        "
   ]
  },
  {
   "cell_type": "code",
   "execution_count": null,
   "metadata": {},
   "outputs": [],
   "source": [
    "from smtplib import SMTP as smtp\n",
    "s = smtp('smtp.python.is.cool')\n",
    "s.set_debuglevel(1)\n"
   ]
  },
  {
   "cell_type": "code",
   "execution_count": null,
   "metadata": {},
   "outputs": [],
   "source": []
  }
 ],
 "metadata": {
  "kernelspec": {
   "display_name": "Python 3",
   "language": "python",
   "name": "python3"
  },
  "language_info": {
   "codemirror_mode": {
    "name": "ipython",
    "version": 3
   },
   "file_extension": ".py",
   "mimetype": "text/x-python",
   "name": "python",
   "nbconvert_exporter": "python",
   "pygments_lexer": "ipython3",
   "version": "3.6.2"
  }
 },
 "nbformat": 4,
 "nbformat_minor": 2
}
