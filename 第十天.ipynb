{
 "cells": [
  {
   "cell_type": "code",
   "execution_count": 99,
   "metadata": {},
   "outputs": [],
   "source": [
    "\n",
    "f = open('itheima.txt','w')\n",
    "\n",
    "f.close()\n"
   ]
  },
  {
   "cell_type": "code",
   "execution_count": 102,
   "metadata": {},
   "outputs": [
    {
     "name": "stdout",
     "output_type": "stream",
     "text": [
      "123\n",
      "123\n",
      "123\n"
     ]
    }
   ],
   "source": [
    "def name1():\n",
    "    f=open('itheima.txt','r')\n",
    "    read = f.read()\n",
    "#     print(read)\n",
    "    f.close()\n",
    "    return read\n",
    "exec(name1())"
   ]
  },
  {
   "cell_type": "code",
   "execution_count": 106,
   "metadata": {},
   "outputs": [
    {
     "name": "stdout",
     "output_type": "stream",
     "text": [
      "人会行走\n",
      "<class '__main__.Person'> 82475664\n"
     ]
    }
   ],
   "source": [
    "class Person(object):\n",
    "    def move(self):\n",
    "        print('人会行走')\n",
    "xm = Person()\n",
    "xm.move()\n",
    "print(Person,id(xm))"
   ]
  },
  {
   "cell_type": "code",
   "execution_count": 108,
   "metadata": {},
   "outputs": [
    {
     "name": "stdout",
     "output_type": "stream",
     "text": [
      "狗会吃骨头\n",
      "名字：andy\n",
      "年龄：6\n",
      "高:1\n"
     ]
    }
   ],
   "source": [
    "class Dog(object):\n",
    "    def eat(self):\n",
    "        print('狗会吃骨头')\n",
    "a = Dog()\n",
    "a.name = 'andy'\n",
    "a.age = 6\n",
    "a.height = 1\n",
    "a.eat()\n",
    "print('名字：%s\\n年龄：%d\\n高:%d' % (a.name, a.age, a.height))"
   ]
  },
  {
   "cell_type": "code",
   "execution_count": 109,
   "metadata": {},
   "outputs": [
    {
     "name": "stdout",
     "output_type": "stream",
     "text": [
      "悟空\n",
      "18\n",
      "3000\n",
      "200\n"
     ]
    }
   ],
   "source": [
    "class Hero(object):\n",
    "    def info(self):\n",
    "        print(self.name)\n",
    "        print(self.age)\n",
    "        print(self.hp)\n",
    "        print(self.atk)\n",
    "wk = Hero()\n",
    "wk.name = '悟空'\n",
    "wk.age = 18\n",
    "wk.hp = 3000\n",
    "wk.atk = 200\n",
    "wk.info()"
   ]
  },
  {
   "cell_type": "code",
   "execution_count": 116,
   "metadata": {},
   "outputs": [
    {
     "data": {
      "text/plain": [
       "(5,)"
      ]
     },
     "execution_count": 116,
     "metadata": {},
     "output_type": "execute_result"
    }
   ],
   "source": [
    "import numpy as np\n",
    "a = np.arange(5)\n",
    "a.dtype\n",
    "a.shape"
   ]
  },
  {
   "cell_type": "code",
   "execution_count": null,
   "metadata": {},
   "outputs": [],
   "source": []
  }
 ],
 "metadata": {
  "kernelspec": {
   "display_name": "Python 3",
   "language": "python",
   "name": "python3"
  },
  "language_info": {
   "codemirror_mode": {
    "name": "ipython",
    "version": 3
   },
   "file_extension": ".py",
   "mimetype": "text/x-python",
   "name": "python",
   "nbconvert_exporter": "python",
   "pygments_lexer": "ipython3",
   "version": "3.6.2"
  }
 },
 "nbformat": 4,
 "nbformat_minor": 2
}
