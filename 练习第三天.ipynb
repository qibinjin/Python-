{
 "cells": [
  {
   "cell_type": "code",
   "execution_count": 1,
   "metadata": {},
   "outputs": [
    {
     "name": "stdout",
     "output_type": "stream",
     "text": [
      "您可以上车\n",
      "请输入年龄19\n",
      "您可以上网\n",
      "请输入密码:123456\n",
      "密码正确\n"
     ]
    }
   ],
   "source": [
    "flag = True\n",
    "if flag:\n",
    "    print('您可以上车')\n",
    "else:\n",
    "    print('请出去')\n",
    "age = int(input('请输入年龄'))\n",
    "if age >= 18:\n",
    "    print('您可以上网')\n",
    "else:\n",
    "    print('你应该学习')\n",
    "passwd = input('请输入密码:')\n",
    "if passwd == '123456':\n",
    "    print('密码正确')\n",
    "else:\n",
    "    print('密码错误')"
   ]
  },
  {
   "cell_type": "code",
   "execution_count": 4,
   "metadata": {},
   "outputs": [
    {
     "name": "stdout",
     "output_type": "stream",
     "text": [
      "您不可以进站\n"
     ]
    }
   ],
   "source": [
    "flag = True\n",
    "knife = 10\n",
    "if flag:\n",
    "    print('您可以进站')\n",
    "    if knife <= 10:\n",
    "        print('您可以上车')\n",
    "    else:\n",
    "        print('您不可以上车')\n",
    "else:\n",
    "    print('您不可以进站')"
   ]
  },
  {
   "cell_type": "code",
   "execution_count": 6,
   "metadata": {},
   "outputs": [
    {
     "name": "stdout",
     "output_type": "stream",
     "text": [
      "请输入金额19\n",
      "您可以上车\n",
      "您可以坐下\n"
     ]
    }
   ],
   "source": [
    "money = eval(input('请输入金额'))\n",
    "flag = True\n",
    "if money >= 2:\n",
    "    print('您可以上车')\n",
    "    if flag:\n",
    "        print('您可以坐下')\n",
    "    else:\n",
    "        print('您不可以坐下')\n",
    "else:\n",
    "    print('您需要充值')"
   ]
  },
  {
   "cell_type": "code",
   "execution_count": 6,
   "metadata": {},
   "outputs": [
    {
     "name": "stdout",
     "output_type": "stream",
     "text": [
      "请输入剪刀（0），石头（1），布（2） 输入任意非整数则退出3.2\n",
      "请输入整数-游戏已退出\n"
     ]
    }
   ],
   "source": [
    "import random\n",
    "jungle = ['剪刀', '石头', '布']\n",
    "try:\n",
    "    while 1:\n",
    "        player = int(input('请输入剪刀（0），石头（1），布（2） 输入任意非整数则退出'))\n",
    "        if player in range(0,3):\n",
    "            computer = random.randint(0,2)\n",
    "            if player - computer == 1 or player - computer == -2:\n",
    "                print( '%s VS %s' % (jungle[player], jungle[computer]))\n",
    "                print('你赢了')\n",
    "            elif player == computer:\n",
    "                print( '%s VS %s'  % (jungle[player], jungle[computer]))\n",
    "                print('平局')\n",
    "            else:\n",
    "                print( '%s VS %s'  % (jungle[player], jungle[computer]))\n",
    "                print('你输了')\n",
    "        else:\n",
    "            print('请输入0-2之间整数')\n",
    "        \n",
    "except(ValueError):\n",
    "    print('请输入整数-游戏已退出')"
   ]
  },
  {
   "cell_type": "code",
   "execution_count": 20,
   "metadata": {},
   "outputs": [
    {
     "name": "stdout",
     "output_type": "stream",
     "text": [
      "8\n"
     ]
    }
   ],
   "source": [
    "arr = [1, 2, 3, 4, 12, 10, 23, 14]\n",
    "\n",
    "count = 0\n",
    "\n",
    "def sort1(arr):\n",
    "    global count #修改全局变量需要声明global\n",
    "    if arr:\n",
    "        arr.pop()\n",
    "        count += 1\n",
    "        return sort1(arr)\n",
    "    else:\n",
    "        print(count)\n",
    "        \n",
    "sort1(arr)"
   ]
  },
  {
   "cell_type": "code",
   "execution_count": 4,
   "metadata": {},
   "outputs": [
    {
     "name": "stdout",
     "output_type": "stream",
     "text": [
      "1 * 1 =  1 \n",
      "\n",
      "2 * 1 =  2 2 * 2 =  4 \n",
      "\n",
      "3 * 1 =  3 3 * 2 =  6 3 * 3 =  9 \n",
      "\n",
      "4 * 1 =  4 4 * 2 =  8 4 * 3 = 12 4 * 4 = 16 \n",
      "\n",
      "5 * 1 =  5 5 * 2 = 10 5 * 3 = 15 5 * 4 = 20 5 * 5 = 25 \n",
      "\n",
      "6 * 1 =  6 6 * 2 = 12 6 * 3 = 18 6 * 4 = 24 6 * 5 = 30 6 * 6 = 36 \n",
      "\n",
      "7 * 1 =  7 7 * 2 = 14 7 * 3 = 21 7 * 4 = 28 7 * 5 = 35 7 * 6 = 42 7 * 7 = 49 \n",
      "\n",
      "8 * 1 =  8 8 * 2 = 16 8 * 3 = 24 8 * 4 = 32 8 * 5 = 40 8 * 6 = 48 8 * 7 = 56 8 * 8 = 64 \n",
      "\n",
      "9 * 1 =  9 9 * 2 = 18 9 * 3 = 27 9 * 4 = 36 9 * 5 = 45 9 * 6 = 54 9 * 7 = 63 9 * 8 = 72 9 * 9 = 81 \n",
      "\n"
     ]
    }
   ],
   "source": [
    "i = 1\n",
    "while i <= 9:\n",
    "    j = 1\n",
    "    while j <= i:\n",
    "        print('%d * %d = %2d' % (i, j, i*j), end = ' ')\n",
    "        j += 1\n",
    "    print('\\n')\n",
    "    i += 1 "
   ]
  },
  {
   "cell_type": "code",
   "execution_count": 12,
   "metadata": {},
   "outputs": [
    {
     "name": "stdout",
     "output_type": "stream",
     "text": [
      "[0, 1, 2, 3, 3, 8, 8, 9, 9, 9, 9, 42]\n"
     ]
    }
   ],
   "source": [
    "\n",
    "import random\n",
    "\n",
    "\n",
    "def quick_sort(array):\n",
    "    if len(array) < 2:\n",
    "        return array\n",
    "    else:\n",
    "        a = random.randint(0, len(array) - 1)\n",
    "        pivot = array[a]\n",
    "        less = [i for i in (array[:a] + array[a + 1 :]) if i <= pivot]\n",
    "        greater = [i for i in (array[:a] + array[a + 1 :])  if i > pivot]\n",
    "    return quick_sort(less)  + [pivot] + quick_sort(greater)\n",
    "\n",
    "\n",
    "print( quick_sort([1, 8, 2, 3, 3, 9, 8, 9, 9, 9, 42, 0]))\n",
    "    "
   ]
  },
  {
   "cell_type": "code",
   "execution_count": 9,
   "metadata": {},
   "outputs": [
    {
     "data": {
      "text/plain": [
       "[1, 2, 3, 12, 10, 23, 14]"
      ]
     },
     "execution_count": 9,
     "metadata": {},
     "output_type": "execute_result"
    }
   ],
   "source": []
  },
  {
   "cell_type": "code",
   "execution_count": 30,
   "metadata": {},
   "outputs": [
    {
     "name": "stdout",
     "output_type": "stream",
     "text": [
      "[6720, 10080, 23520, 26880, 33600]\n"
     ]
    }
   ],
   "source": [
    "array = [2, 3, 7, 8, 10]\n",
    "for i in array:\n",
    "    array = [x * i for x in array]\n",
    "print(array)"
   ]
  },
  {
   "cell_type": "code",
   "execution_count": 1,
   "metadata": {},
   "outputs": [
    {
     "name": "stdout",
     "output_type": "stream",
     "text": [
      "0\n",
      "1\n",
      "2\n",
      "3\n",
      "4\n",
      "5\n",
      "6\n",
      "7\n",
      "8\n",
      "9\n",
      "0\n",
      "1\n",
      "2\n",
      "3\n",
      "4\n",
      "5\n",
      "6\n",
      "7\n",
      "8\n",
      "9\n"
     ]
    }
   ],
   "source": [
    "for i in range(0,10):\n",
    "    print(i)\n",
    "for i in range(10):\n",
    "    print(i)"
   ]
  },
  {
   "cell_type": "code",
   "execution_count": null,
   "metadata": {},
   "outputs": [],
   "source": []
  }
 ],
 "metadata": {
  "kernelspec": {
   "display_name": "Python 3",
   "language": "python",
   "name": "python3"
  },
  "language_info": {
   "codemirror_mode": {
    "name": "ipython",
    "version": 3
   },
   "file_extension": ".py",
   "mimetype": "text/x-python",
   "name": "python",
   "nbconvert_exporter": "python",
   "pygments_lexer": "ipython3",
   "version": "3.6.2"
  }
 },
 "nbformat": 4,
 "nbformat_minor": 2
}
